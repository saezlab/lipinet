{
 "cells": [
  {
   "cell_type": "code",
   "execution_count": 1,
   "metadata": {},
   "outputs": [],
   "source": [
    "import lipinet.analyse  # Import the module\n",
    "import graph_tool as gt\n",
    "import importlib\n",
    "\n",
    "# Reload the module to ensure changes are picked up\n",
    "importlib.reload(lipinet.analyse)\n",
    "\n",
    "# Now you can use your function after reloading the module\n",
    "from lipinet.analyse import propagate_categorical_property"
   ]
  },
  {
   "cell_type": "code",
   "execution_count": 7,
   "metadata": {},
   "outputs": [
    {
     "name": "stdout",
     "output_type": "stream",
     "text": [
      "Propagating from node 2 in direction 'downstream'\n",
      "Processing node 2, with weight 1.0 and inherited categories {}\n",
      "Processing node 3, with weight 0.5 and inherited categories {'R2': 'measured_node'}\n",
      "Processing node 5, with weight 0.25 and inherited categories {'R2': 'measured_node', 'R3': 'downstream', 'R4': 'downstream'}\n",
      "Processing node 9, with weight 0.25 and inherited categories {'R2': 'measured_node', 'R3': 'downstream', 'R4': 'downstream', 'R5': 'downstream'}\n",
      "Processing node 6, with weight 0.25 and inherited categories {'R2': 'measured_node', 'R3': 'downstream', 'R4': 'downstream'}\n",
      "Processing node 4, with weight 0.5 and inherited categories {'R2': 'measured_node'}\n",
      "Processing node 7, with weight 0.25 and inherited categories {'R2': 'measured_node', 'R4': 'downstream'}\n",
      "Processing node 10, with weight 0.25 and inherited categories {'R2': 'measured_node', 'R4': 'downstream', 'R5': 'downstream'}\n",
      "Processing node 8, with weight 0.25 and inherited categories {'R2': 'measured_node', 'R4': 'downstream'}\n",
      "Processing node 11, with weight 0.25 and inherited categories {'R2': 'measured_node', 'R4': 'downstream', 'R7': 'downstream', 'R8': 'downstream'}\n",
      "Accumulated Categories at Terminal Nodes (from node 2):\n",
      "\n",
      "Categories from upstream:\n",
      "\n",
      "Categories from measured node:\n",
      "  Category R2: Accumulated Weight 1.0\n",
      "\n",
      "Categories from downstream:\n",
      "  Category R3: Accumulated Weight 0.5\n",
      "  Category R4: Accumulated Weight 1.0\n",
      "  Category R5: Accumulated Weight 0.5\n",
      "  Category R9: Accumulated Weight 0.5\n",
      "  Category R10: Accumulated Weight 0.25\n",
      "  Category R6: Accumulated Weight 0.25\n",
      "  Category R7: Accumulated Weight 0.25\n",
      "  Category R8: Accumulated Weight 0.25\n",
      "  Category R11: Accumulated Weight 0.25\n"
     ]
    }
   ],
   "source": [
    "g = gt.Graph(directed=True)\n",
    "\n",
    "# Create vertex property for reactions\n",
    "reactions = g.new_vertex_property(\"object\")\n",
    "\n",
    "# Add nodes\n",
    "nodes = [g.add_vertex() for _ in range(12)]  # Nodes 0 to 11\n",
    "\n",
    "# Assign reactions\n",
    "reactions[nodes[0]] = [\"R0\"]                 # Root node\n",
    "reactions[nodes[1]] = [\"R1\"]                 # Level 1 node\n",
    "reactions[nodes[2]] = [\"R2\"]                 # Measured node\n",
    "reactions[nodes[3]] = [\"R3\", \"R4\"]           # Child of measured node\n",
    "reactions[nodes[4]] = [\"R4\"]                 # Child of measured node (shared reaction R4)\n",
    "reactions[nodes[5]] = [\"R5\"]                 # Child of node 3\n",
    "reactions[nodes[6]] = [\"R6\"]                 # Child of node 3\n",
    "reactions[nodes[7]] = [\"R5\"]                 # Child of node 4 (shared reaction R5)\n",
    "reactions[nodes[8]] = [\"R7\", \"R8\"]           # Child of node 4\n",
    "reactions[nodes[9]] = [\"R9\", \"R10\"]          # Child of node 5\n",
    "reactions[nodes[10]] = [\"R9\"]                # Child of node 7 (shared reaction R9)\n",
    "reactions[nodes[11]] = [\"R11\"]               # Child of node 8\n",
    "\n",
    "# Add edges to represent hierarchy\n",
    "g.add_edge(nodes[0], nodes[1])   # Root -> Level 1\n",
    "g.add_edge(nodes[1], nodes[2])   # Level 1 -> Measured Node\n",
    "g.add_edge(nodes[2], nodes[3])   # Measured Node -> Node 3\n",
    "g.add_edge(nodes[2], nodes[4])   # Measured Node -> Node 4\n",
    "g.add_edge(nodes[3], nodes[5])   # Node 3 -> Node 5\n",
    "g.add_edge(nodes[3], nodes[6])   # Node 3 -> Node 6\n",
    "g.add_edge(nodes[4], nodes[7])   # Node 4 -> Node 7\n",
    "g.add_edge(nodes[4], nodes[8])   # Node 4 -> Node 8\n",
    "g.add_edge(nodes[5], nodes[9])   # Node 5 -> Node 9\n",
    "g.add_edge(nodes[7], nodes[10])  # Node 7 -> Node 10\n",
    "g.add_edge(nodes[8], nodes[11])  # Node 8 -> Node 11\n",
    "\n",
    "# Use the categorical property propagation function\n",
    "accumulated_categories_downstream = propagate_categorical_property(g, nodes[2], reactions, verbose=True, showtotal=True)"
   ]
  },
  {
   "cell_type": "code",
   "execution_count": 8,
   "metadata": {},
   "outputs": [
    {
     "name": "stdout",
     "output_type": "stream",
     "text": [
      "Propagating from node 2 in direction 'upstream'\n",
      "Processing node 2, with weight 1.0 and inherited categories {}\n",
      "Processing node 1, with weight 1.0 and inherited categories {'R2': 'measured_node'}\n",
      "Processing node 0, with weight 1.0 and inherited categories {'R2': 'measured_node', 'R1': 'upstream'}\n",
      "Accumulated Categories at Terminal Nodes (from node 2):\n",
      "\n",
      "Categories from upstream:\n",
      "  Category R1: Accumulated Weight 1.0\n",
      "  Category R0: Accumulated Weight 1.0\n",
      "\n",
      "Categories from measured node:\n",
      "  Category R2: Accumulated Weight 1.0\n",
      "\n",
      "Categories from downstream:\n"
     ]
    }
   ],
   "source": [
    "# try just upstream propagation\n",
    "accumulated_categories_upstream = propagate_categorical_property(g, nodes[2], reactions, \n",
    "                               verbose=True, showtotal=True,\n",
    "                               direction='upstream')"
   ]
  },
  {
   "cell_type": "code",
   "execution_count": 9,
   "metadata": {},
   "outputs": [
    {
     "name": "stdout",
     "output_type": "stream",
     "text": [
      "Propagating from node 2 in direction 'both'\n",
      "Processing node 2, with weight 1.0 and inherited categories {}\n",
      "Processing node 3, with weight 0.5 and inherited categories {'R2': 'measured_node'}\n",
      "Processing node 5, with weight 0.25 and inherited categories {'R2': 'measured_node', 'R3': 'downstream', 'R4': 'downstream'}\n",
      "Processing node 9, with weight 0.25 and inherited categories {'R2': 'measured_node', 'R3': 'downstream', 'R4': 'downstream', 'R5': 'downstream'}\n",
      "Processing node 6, with weight 0.25 and inherited categories {'R2': 'measured_node', 'R3': 'downstream', 'R4': 'downstream'}\n",
      "Processing node 4, with weight 0.5 and inherited categories {'R2': 'measured_node'}\n",
      "Processing node 7, with weight 0.25 and inherited categories {'R2': 'measured_node', 'R4': 'downstream'}\n",
      "Processing node 10, with weight 0.25 and inherited categories {'R2': 'measured_node', 'R4': 'downstream', 'R5': 'downstream'}\n",
      "Processing node 8, with weight 0.25 and inherited categories {'R2': 'measured_node', 'R4': 'downstream'}\n",
      "Processing node 11, with weight 0.25 and inherited categories {'R2': 'measured_node', 'R4': 'downstream', 'R7': 'downstream', 'R8': 'downstream'}\n",
      "Processing node 1, with weight 1.0 and inherited categories {'R2': 'measured_node'}\n",
      "Processing node 0, with weight 1.0 and inherited categories {'R2': 'measured_node', 'R1': 'upstream'}\n",
      "Accumulated Categories at Terminal Nodes (from node 2):\n",
      "\n",
      "Categories from upstream:\n",
      "  Category R1: Accumulated Weight 1.0\n",
      "  Category R0: Accumulated Weight 1.0\n",
      "\n",
      "Categories from measured node:\n",
      "  Category R2: Accumulated Weight 1.0\n",
      "\n",
      "Categories from downstream:\n",
      "  Category R3: Accumulated Weight 0.5\n",
      "  Category R4: Accumulated Weight 1.0\n",
      "  Category R5: Accumulated Weight 0.5\n",
      "  Category R9: Accumulated Weight 0.5\n",
      "  Category R10: Accumulated Weight 0.25\n",
      "  Category R6: Accumulated Weight 0.25\n",
      "  Category R7: Accumulated Weight 0.25\n",
      "  Category R8: Accumulated Weight 0.25\n",
      "  Category R11: Accumulated Weight 0.25\n"
     ]
    }
   ],
   "source": [
    "# try both upstream and downstream propagation\n",
    "accumulated_categories_both = propagate_categorical_property(g, nodes[2], reactions, \n",
    "                               verbose=True, showtotal=True,\n",
    "                               direction='both')"
   ]
  },
  {
   "cell_type": "code",
   "execution_count": 10,
   "metadata": {},
   "outputs": [
    {
     "data": {
      "text/plain": [
       "{'upstream': {'R1': 1.0, 'R0': 1.0},\n",
       " 'measured_node': {'R2': 1.0},\n",
       " 'downstream': {'R3': 0.5,\n",
       "  'R4': 1.0,\n",
       "  'R5': 0.5,\n",
       "  'R9': 0.5,\n",
       "  'R10': 0.25,\n",
       "  'R6': 0.25,\n",
       "  'R7': 0.25,\n",
       "  'R8': 0.25,\n",
       "  'R11': 0.25}}"
      ]
     },
     "execution_count": 10,
     "metadata": {},
     "output_type": "execute_result"
    }
   ],
   "source": [
    "both"
   ]
  }
 ],
 "metadata": {
  "kernelspec": {
   "display_name": "graphtool",
   "language": "python",
   "name": "python3"
  },
  "language_info": {
   "codemirror_mode": {
    "name": "ipython",
    "version": 3
   },
   "file_extension": ".py",
   "mimetype": "text/x-python",
   "name": "python",
   "nbconvert_exporter": "python",
   "pygments_lexer": "ipython3",
   "version": "3.12.4"
  }
 },
 "nbformat": 4,
 "nbformat_minor": 2
}

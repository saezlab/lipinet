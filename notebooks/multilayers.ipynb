{
 "cells": [
  {
   "cell_type": "code",
   "execution_count": 1,
   "metadata": {},
   "outputs": [],
   "source": [
    "import lipinet.databases  # Import the module\n",
    "import graph_tool as gt\n",
    "import importlib\n",
    "\n",
    "# Reload the module to ensure changes are picked up\n",
    "importlib.reload(lipinet)\n",
    "\n",
    "# Now you can use your function after reloading the module\n",
    "from lipinet.databases import download_and_load_data, get_prior_knowledge\n",
    "from lipinet.network import MultilayerNetwork\n",
    "from lipinet.visualisation import set_node_sizes_and_text_by_depth\n",
    "\n",
    "import pandas as pd\n",
    "\n",
    "import graph_tool\n",
    "from graph_tool.all import graph_draw, bfs_iterator"
   ]
  },
  {
   "cell_type": "code",
   "execution_count": 2,
   "metadata": {},
   "outputs": [],
   "source": [
    "# edges_data[:2]"
   ]
  },
  {
   "cell_type": "code",
   "execution_count": 3,
   "metadata": {},
   "outputs": [],
   "source": [
    "# edges_data[2:]"
   ]
  },
  {
   "cell_type": "code",
   "execution_count": 4,
   "metadata": {},
   "outputs": [],
   "source": [
    "# layer_edges_data"
   ]
  },
  {
   "cell_type": "code",
   "execution_count": 5,
   "metadata": {},
   "outputs": [
    {
     "name": "stdout",
     "output_type": "stream",
     "text": [
      "Node CHEBI:12345: layer=Layer1, authority=ChEBI, node_type=Compound, extra props=dict_items([('extra_info', 'Basic Compound')])\n",
      "Node CHEBI:54321: layer=Layer1, authority=ChEBI, node_type=Compound, extra props=dict_items([('extra_info', 'Special Compound')])\n",
      "Node CHEBI:67890: layer=Layer1, authority=ChEBI, node_type=Compound, extra props=dict_items([])\n",
      "Node CHEBI:12345_variant: layer=Layer2, authority=ChEBI, node_type=Compound Variant, extra props=dict_items([('extra_info', 'Variant of CHEBI:12345')])\n",
      "Node CHEBI:54321_variant: layer=Layer2, authority=ChEBI, node_type=Compound Variant, extra props=dict_items([('extra_info', 'Variant of CHEBI:54321')])\n",
      "Node CHEBI:11111: layer=Layer2, authority=ChEBI, node_type=Compound, extra props=dict_items([])\n",
      "Node RHEA:10000: layer=Layer3, authority=Rhea, node_type=Reaction, extra props=dict_items([('reaction_type', 'synthesis')])\n",
      "Node RHEA:20000: layer=Layer3, authority=Rhea, node_type=Reaction, extra props=dict_items([('reaction_type', 'degradation')])\n",
      "Node RHEA:30000: layer=Layer3, authority=Rhea, node_type=Reaction, extra props=dict_items([])\n",
      "['variant', 'variant']\n",
      "Edge added from CHEBI:12345 (Layer1) to CHEBI:12345_variant (Layer2) with properties: {'edge_properties': {'edge_layertype': 'interlayer', 'edge_weight': 1}}\n",
      "Edge added from CHEBI:54321 (Layer1) to CHEBI:54321_variant (Layer2) with properties: {'edge_properties': {'edge_layertype': 'interlayer', 'edge_weight': 1}}\n",
      "Edge added from RHEA:10000 (Layer3) to CHEBI:12345 (Layer1) with properties: {'edge_properties': {'edge_layertype': 'interlayer', 'edge_weight': 2}}\n",
      "Edge added from RHEA:20000 (Layer3) to CHEBI:67890 (Layer1) with properties: {'edge_properties': {'edge_layertype': 'interlayer', 'edge_weight': 2}}\n",
      "Edge added from RHEA:30000 (Layer3) to CHEBI:54321 (Layer1) with properties: {'edge_properties': {'edge_layertype': 'interlayer', 'edge_weight': 2}}\n",
      "Edges in the network:\n",
      "Edge from 0 to 3) - Type: , Weight: 0.0\n",
      "Edge from 1 to 4) - Type: , Weight: 0.0\n",
      "Edge from 6 to 0) - Type: , Weight: 0.0\n",
      "Edge from 7 to 2) - Type: , Weight: 0.0\n",
      "Edge from 8 to 1) - Type: , Weight: 0.0\n",
      "\n",
      "Nodes in each layer:\n",
      "Node ('Layer1', 'CHEBI:12345'): Layer = Layer1, Authority = ChEBI, Node LayerType = Compound\n",
      "Node ('Layer1', 'CHEBI:54321'): Layer = Layer1, Authority = ChEBI, Node LayerType = Compound\n",
      "Node ('Layer1', 'CHEBI:67890'): Layer = Layer1, Authority = ChEBI, Node LayerType = Compound\n",
      "Node ('Layer2', 'CHEBI:12345_variant'): Layer = Layer2, Authority = ChEBI, Node LayerType = Compound Variant\n",
      "Node ('Layer2', 'CHEBI:54321_variant'): Layer = Layer2, Authority = ChEBI, Node LayerType = Compound Variant\n",
      "Node ('Layer2', 'CHEBI:11111'): Layer = Layer2, Authority = ChEBI, Node LayerType = Compound\n",
      "Node ('Layer3', 'RHEA:10000'): Layer = Layer3, Authority = Rhea, Node LayerType = Reaction\n",
      "Node ('Layer3', 'RHEA:20000'): Layer = Layer3, Authority = Rhea, Node LayerType = Reaction\n",
      "Node ('Layer3', 'RHEA:30000'): Layer = Layer3, Authority = Rhea, Node LayerType = Reaction\n"
     ]
    }
   ],
   "source": [
    "import pandas as pd\n",
    "\n",
    "# Initialize the MultilayerNetwork\n",
    "network = MultilayerNetwork()\n",
    "\n",
    "# Define data for each layer according to the build_layer format\n",
    "# Layer 1: ChEBI compounds\n",
    "layer1_data = [\n",
    "    ('CHEBI:12345', 'Compound'),\n",
    "    ('CHEBI:54321', 'Compound'),\n",
    "    ('CHEBI:67890', 'Compound')\n",
    "]\n",
    "layer1_custom_properties = {\n",
    "    'CHEBI:12345': {'extra_info': 'Basic Compound'},\n",
    "    'CHEBI:54321': {'extra_info': 'Special Compound'}\n",
    "}\n",
    "\n",
    "# Layer 2: ChEBI compound variants or other subset\n",
    "layer2_data = [\n",
    "    ('CHEBI:12345_variant', 'Compound Variant'),\n",
    "    ('CHEBI:54321_variant', 'Compound Variant'),\n",
    "    ('CHEBI:11111', 'Compound')\n",
    "]\n",
    "layer2_custom_properties = {\n",
    "    'CHEBI:12345_variant': {'extra_info': 'Variant of CHEBI:12345'},\n",
    "    'CHEBI:54321_variant': {'extra_info': 'Variant of CHEBI:54321'}\n",
    "}\n",
    "\n",
    "# Layer 3: Rhea reactions\n",
    "layer3_data = [\n",
    "    ('RHEA:10000', 'Reaction'),\n",
    "    ('RHEA:20000', 'Reaction'),\n",
    "    ('RHEA:30000', 'Reaction')\n",
    "]\n",
    "layer3_custom_properties = {\n",
    "    'RHEA:10000': {'reaction_type': 'synthesis'},\n",
    "    'RHEA:20000': {'reaction_type': 'degradation'}\n",
    "}\n",
    "\n",
    "# Build each layer using build_layer\n",
    "network.build_layer(layer1_data, \"Layer1\", \"ChEBI\", custom_properties=layer1_custom_properties)\n",
    "network.build_layer(layer2_data, \"Layer2\", \"ChEBI\", custom_properties=layer2_custom_properties)\n",
    "network.build_layer(layer3_data, \"Layer3\", \"Rhea\", custom_properties=layer3_custom_properties)\n",
    "\n",
    "# Define edges between nodes across layers directly\n",
    "edges_data = [\n",
    "    ('CHEBI:12345', 'CHEBI:12345_variant', 'variant', 1.0),\n",
    "    ('CHEBI:54321', 'CHEBI:54321_variant', 'variant', 1.0),\n",
    "    ('RHEA:10000', 'CHEBI:12345', 'reaction-participant', 2.0),\n",
    "    ('RHEA:20000', 'CHEBI:67890', 'reaction-participant', 2.5),\n",
    "    ('RHEA:30000', 'CHEBI:54321', 'reaction-participant', 2.0)\n",
    "]\n",
    "\n",
    "layer_edges_data = edges_data[:2]\n",
    "# Add edges using add_edges_from_nodes method\n",
    "print([item[2] for item in layer_edges_data])\n",
    "    \n",
    "network.add_edges_from_nodes(from_nodes=[item[0] for item in layer_edges_data],\n",
    "                             to_nodes=[item[1] for item in layer_edges_data],\n",
    "                             from_layer='Layer1',\n",
    "                             to_layer='Layer2', #,\n",
    "                             edge_properties= {'edge_layertype':'interlayer', #variant\n",
    "                                               'edge_weight':1}\n",
    "                             #edge_properties= {'edge_type':[item[2] for item in layer_edges_data], \n",
    "                             #                  'edge_weight':[item[3] for item in layer_edges_data]}\n",
    "                             )\n",
    "layer_edges_data = edges_data[2:]\n",
    "# Add edges using add_edges_from_nodes method\n",
    "network.add_edges_from_nodes(from_nodes=[item[0] for item in layer_edges_data],\n",
    "                             to_nodes=[item[1] for item in layer_edges_data],\n",
    "                             from_layer='Layer3',\n",
    "                             to_layer='Layer1', #,\n",
    "                             edge_properties= {'edge_layertype':'interlayer', #reaction-participant\n",
    "                                               'edge_weight':2}\n",
    "                             #edge_properties= {'edge_type':[item[2] for item in layer_edges_data], \n",
    "                             #                  'edge_weight':[item[3] for item in layer_edges_data]}\n",
    "                            )\n",
    "# for source, target, edge_type, edge_weight in edges_data:\n",
    "#     network.add_edges_from_nodes(source, target, from_layer='Layer1', to_layer='Layer2', edge_properties= {'edge_type':edge_type, 'edge_weight':edge_weight})\n",
    "\n",
    "# Print the edges for verification\n",
    "print(\"Edges in the network:\")\n",
    "for edge in network.graph.edges():\n",
    "    source = network.graph.vertex_index[edge.source()]\n",
    "    target = network.graph.vertex_index[edge.target()]\n",
    "    edge_type = network.edge_layertype[edge]\n",
    "    edge_weight = network.edge_weight[edge]\n",
    "    print(f\"Edge from {source} to {target}) - Type: {edge_type}, Weight: {edge_weight}\")\n",
    "\n",
    "# Print nodes by layer to verify properties\n",
    "print(\"\\nNodes in each layer:\")\n",
    "for node_id, vertex in network.node_map.items():\n",
    "    print(f\"Node {node_id}: Layer = {network.layer[vertex]}, Authority = {network.authority[vertex]}, Node LayerType = {network.node_type[vertex]}\")"
   ]
  },
  {
   "cell_type": "markdown",
   "metadata": {},
   "source": [
    "\t•\tLayer1: Red (1, 0, 0, 1) — RGB: (255, 0, 0)\n",
    "\t•\tLayer2: Green (0, 1, 0, 1) — RGB: (0, 255, 0)\n",
    "\t•\tLayer3: Blue (0, 0, 1, 1) — RGB: (0, 0, 255)"
   ]
  },
  {
   "cell_type": "code",
   "execution_count": 6,
   "metadata": {},
   "outputs": [
    {
     "data": {
      "image/png": "[encoded data removed]",
      "text/plain": [
       "<IPython.core.display.Image object>"
      ]
     },
     "metadata": {
      "image/png": {
       "height": 600,
       "width": 505
      }
     },
     "output_type": "display_data"
    }
   ],
   "source": [
    "from graph_tool.draw import graph_draw, prop_to_size\n",
    "from matplotlib import pyplot as plt\n",
    "\n",
    "# Map layers to colors\n",
    "color_map = {'Layer1': (1, 0, 0, 1), 'Layer2': (0, 1, 0, 1), 'Layer3': (0, 0, 1, 1)}\n",
    "layer_color = network.graph.new_vertex_property(\"vector<double>\")\n",
    "for v in network.graph.vertices():\n",
    "    layer_color[v] = color_map[network.layer[v]]\n",
    "\n",
    "# Draw the graph with vertices colored by layer\n",
    "graph_draw(network.graph, vertex_fill_color=layer_color)\n",
    "plt.show()"
   ]
  },
  {
   "cell_type": "code",
   "execution_count": 7,
   "metadata": {},
   "outputs": [
    {
     "data": {
      "text/plain": [
       "{'weight': <EdgePropertyMap object with value type 'double', for Graph 0x30410d5e0, at 0x303fd0b00>, 'edge_layertype': <EdgePropertyMap object with value type 'string', for Graph 0x30410d5e0, at 0x106dc97f0>, 'edge_properties': <EdgePropertyMap object with value type 'python::object', for Graph 0x30410d5e0, at 0x30410df10>}"
      ]
     },
     "execution_count": 7,
     "metadata": {},
     "output_type": "execute_result"
    }
   ],
   "source": [
    "network.graph.edge_properties"
   ]
  },
  {
   "cell_type": "markdown",
   "metadata": {},
   "source": [
    "Now try again, using our new functionality..."
   ]
  },
  {
   "cell_type": "code",
   "execution_count": 8,
   "metadata": {},
   "outputs": [
    {
     "name": "stdout",
     "output_type": "stream",
     "text": [
      "Node CHEBI:12345: layer=Layer1, authority=ChEBI, node_type=Compound, extra props=dict_items([('extra_info', 'Basic Compound')])\n",
      "Node CHEBI:54321: layer=Layer1, authority=ChEBI, node_type=Compound, extra props=dict_items([('extra_info', 'Special Compound')])\n",
      "Node CHEBI:67890: layer=Layer1, authority=ChEBI, node_type=Compound, extra props=dict_items([])\n",
      "Node CHEBI:12345_variant: layer=Layer2, authority=ChEBI, node_type=Compound Variant, extra props=dict_items([('extra_info', 'Variant of CHEBI:12345')])\n",
      "Node CHEBI:54321_variant: layer=Layer2, authority=ChEBI, node_type=Compound Variant, extra props=dict_items([('extra_info', 'Variant of CHEBI:54321')])\n",
      "Node CHEBI:11111: layer=Layer2, authority=ChEBI, node_type=Compound, extra props=dict_items([])\n",
      "Node RHEA:10000: layer=Layer3, authority=Rhea, node_type=Reaction, extra props=dict_items([('reaction_type', 'synthesis')])\n",
      "Node RHEA:20000: layer=Layer3, authority=Rhea, node_type=Reaction, extra props=dict_items([('reaction_type', 'degradation')])\n",
      "Node RHEA:30000: layer=Layer3, authority=Rhea, node_type=Reaction, extra props=dict_items([])\n",
      "['variant', 'variant']\n",
      "Edge added from CHEBI:12345 (Layer1) to CHEBI:12345_variant (Layer2) with properties: {'edge_properties': {'edge_layertype': ['variant', 'variant'], 'edge_weight': [1.0, 1.0]}}\n",
      "Edge added from CHEBI:54321 (Layer1) to CHEBI:54321_variant (Layer2) with properties: {'edge_properties': {'edge_layertype': ['variant', 'variant'], 'edge_weight': [1.0, 1.0]}}\n",
      "Edge added from RHEA:10000 (Layer3) to CHEBI:12345 (Layer1) with properties: {'edge_properties': {'edge_layertype': ['reaction-participant', 'reaction-participant', 'reaction-participant'], 'edge_weight': [2.0, 2.5, 2.0]}}\n",
      "Edge added from RHEA:20000 (Layer3) to CHEBI:67890 (Layer1) with properties: {'edge_properties': {'edge_layertype': ['reaction-participant', 'reaction-participant', 'reaction-participant'], 'edge_weight': [2.0, 2.5, 2.0]}}\n",
      "Edge added from RHEA:30000 (Layer3) to CHEBI:54321 (Layer1) with properties: {'edge_properties': {'edge_layertype': ['reaction-participant', 'reaction-participant', 'reaction-participant'], 'edge_weight': [2.0, 2.5, 2.0]}}\n",
      "Edges in the network:\n",
      "Edge from 0 to 3) - Type: , Weight: 0.0\n",
      "Edge from 1 to 4) - Type: , Weight: 0.0\n",
      "Edge from 6 to 0) - Type: , Weight: 0.0\n",
      "Edge from 7 to 2) - Type: , Weight: 0.0\n",
      "Edge from 8 to 1) - Type: , Weight: 0.0\n",
      "\n",
      "Nodes in each layer:\n",
      "Node ('Layer1', 'CHEBI:12345'): Layer = Layer1, Authority = ChEBI, Node LayerType = Compound\n",
      "Node ('Layer1', 'CHEBI:54321'): Layer = Layer1, Authority = ChEBI, Node LayerType = Compound\n",
      "Node ('Layer1', 'CHEBI:67890'): Layer = Layer1, Authority = ChEBI, Node LayerType = Compound\n",
      "Node ('Layer2', 'CHEBI:12345_variant'): Layer = Layer2, Authority = ChEBI, Node LayerType = Compound Variant\n",
      "Node ('Layer2', 'CHEBI:54321_variant'): Layer = Layer2, Authority = ChEBI, Node LayerType = Compound Variant\n",
      "Node ('Layer2', 'CHEBI:11111'): Layer = Layer2, Authority = ChEBI, Node LayerType = Compound\n",
      "Node ('Layer3', 'RHEA:10000'): Layer = Layer3, Authority = Rhea, Node LayerType = Reaction\n",
      "Node ('Layer3', 'RHEA:20000'): Layer = Layer3, Authority = Rhea, Node LayerType = Reaction\n",
      "Node ('Layer3', 'RHEA:30000'): Layer = Layer3, Authority = Rhea, Node LayerType = Reaction\n"
     ]
    }
   ],
   "source": [
    "import pandas as pd\n",
    "\n",
    "# Initialize the MultilayerNetwork\n",
    "network = MultilayerNetwork()\n",
    "\n",
    "# Define data for each layer according to the build_layer format\n",
    "# Layer 1: ChEBI compounds\n",
    "layer1_data = [\n",
    "    ('CHEBI:12345', 'Compound'),\n",
    "    ('CHEBI:54321', 'Compound'),\n",
    "    ('CHEBI:67890', 'Compound')\n",
    "]\n",
    "layer1_custom_properties = {\n",
    "    'CHEBI:12345': {'extra_info': 'Basic Compound'},\n",
    "    'CHEBI:54321': {'extra_info': 'Special Compound'}\n",
    "}\n",
    "\n",
    "# Layer 2: ChEBI compound variants or other subset\n",
    "layer2_data = [\n",
    "    ('CHEBI:12345_variant', 'Compound Variant'),\n",
    "    ('CHEBI:54321_variant', 'Compound Variant'),\n",
    "    ('CHEBI:11111', 'Compound')\n",
    "]\n",
    "layer2_custom_properties = {\n",
    "    'CHEBI:12345_variant': {'extra_info': 'Variant of CHEBI:12345'},\n",
    "    'CHEBI:54321_variant': {'extra_info': 'Variant of CHEBI:54321'}\n",
    "}\n",
    "\n",
    "# Layer 3: Rhea reactions\n",
    "layer3_data = [\n",
    "    ('RHEA:10000', 'Reaction'),\n",
    "    ('RHEA:20000', 'Reaction'),\n",
    "    ('RHEA:30000', 'Reaction')\n",
    "]\n",
    "layer3_custom_properties = {\n",
    "    'RHEA:10000': {'reaction_type': 'synthesis'},\n",
    "    'RHEA:20000': {'reaction_type': 'degradation'}\n",
    "}\n",
    "\n",
    "# Build each layer using build_layer\n",
    "network.build_layer(layer1_data, \"Layer1\", \"ChEBI\", custom_properties=layer1_custom_properties)\n",
    "network.build_layer(layer2_data, \"Layer2\", \"ChEBI\", custom_properties=layer2_custom_properties)\n",
    "network.build_layer(layer3_data, \"Layer3\", \"Rhea\", custom_properties=layer3_custom_properties)\n",
    "\n",
    "# Define edges between nodes across layers directly\n",
    "edges_data = [\n",
    "    ('CHEBI:12345', 'CHEBI:12345_variant', 'variant', 1.0),\n",
    "    ('CHEBI:54321', 'CHEBI:54321_variant', 'variant', 1.0),\n",
    "    ('RHEA:10000', 'CHEBI:12345', 'reaction-participant', 2.0),\n",
    "    ('RHEA:20000', 'CHEBI:67890', 'reaction-participant', 2.5),\n",
    "    ('RHEA:30000', 'CHEBI:54321', 'reaction-participant', 2.0)\n",
    "]\n",
    "\n",
    "layer_edges_data = edges_data[:2]\n",
    "# Add edges using add_edges_from_nodes method\n",
    "print([item[2] for item in layer_edges_data])\n",
    "    \n",
    "network.add_edges_from_nodes(from_nodes=[item[0] for item in layer_edges_data],\n",
    "                             to_nodes=[item[1] for item in layer_edges_data],\n",
    "                             from_layer='Layer1',\n",
    "                             to_layer='Layer2', #,\n",
    "                            #  edge_properties= {'edge_layertype':'interlayer', #variant\n",
    "                            #                    'edge_weight':1}\n",
    "                             edge_properties= {'edge_layertype':[item[2] for item in layer_edges_data], \n",
    "                                              'edge_weight':[item[3] for item in layer_edges_data]}\n",
    "                             )\n",
    "layer_edges_data = edges_data[2:]\n",
    "# Add edges using add_edges_from_nodes method\n",
    "network.add_edges_from_nodes(from_nodes=[item[0] for item in layer_edges_data],\n",
    "                             to_nodes=[item[1] for item in layer_edges_data],\n",
    "                             from_layer='Layer3',\n",
    "                             to_layer='Layer1', #,\n",
    "                            #  edge_properties= {'edge_layertype':'interlayer', #reaction-participant\n",
    "                            #                    'edge_weight':2}\n",
    "                             edge_properties= {'edge_layertype':[item[2] for item in layer_edges_data], \n",
    "                                              'edge_weight':[item[3] for item in layer_edges_data]}\n",
    "                            )\n",
    "# for source, target, edge_type, edge_weight in edges_data:\n",
    "#     network.add_edges_from_nodes(source, target, from_layer='Layer1', to_layer='Layer2', edge_properties= {'edge_type':edge_type, 'edge_weight':edge_weight})\n",
    "\n",
    "# Print the edges for verification\n",
    "print(\"Edges in the network:\")\n",
    "for edge in network.graph.edges():\n",
    "    source = network.graph.vertex_index[edge.source()]\n",
    "    target = network.graph.vertex_index[edge.target()]\n",
    "    edge_type = network.edge_layertype[edge]\n",
    "    edge_weight = network.edge_weight[edge]\n",
    "    print(f\"Edge from {source} to {target}) - Type: {edge_type}, Weight: {edge_weight}\")\n",
    "\n",
    "# Print nodes by layer to verify properties\n",
    "print(\"\\nNodes in each layer:\")\n",
    "for node_id, vertex in network.node_map.items():\n",
    "    print(f\"Node {node_id}: Layer = {network.layer[vertex]}, Authority = {network.authority[vertex]}, Node LayerType = {network.node_type[vertex]}\")"
   ]
  },
  {
   "cell_type": "code",
   "execution_count": 9,
   "metadata": {},
   "outputs": [
    {
     "ename": "RuntimeError",
     "evalue": "Node 'A' in layer 'layer1' does not exist. Set `create_missing=True` to create missing nodes.",
     "output_type": "error",
     "traceback": [
      "\u001b[0;31m---------------------------------------------------------------------------\u001b[0m",
      "\u001b[0;31mRuntimeError\u001b[0m                              Traceback (most recent call last)",
      "Cell \u001b[0;32mIn[9], line 12\u001b[0m\n\u001b[1;32m      2\u001b[0m df_edges \u001b[38;5;241m=\u001b[39m pd\u001b[38;5;241m.\u001b[39mDataFrame({\n\u001b[1;32m      3\u001b[0m     \u001b[38;5;124m'\u001b[39m\u001b[38;5;124mfrom_node\u001b[39m\u001b[38;5;124m'\u001b[39m: [\u001b[38;5;124m'\u001b[39m\u001b[38;5;124mA|X\u001b[39m\u001b[38;5;124m'\u001b[39m, \u001b[38;5;124m'\u001b[39m\u001b[38;5;124mC\u001b[39m\u001b[38;5;124m'\u001b[39m, \u001b[38;5;124m'\u001b[39m\u001b[38;5;124mE\u001b[39m\u001b[38;5;124m'\u001b[39m],\n\u001b[1;32m      4\u001b[0m     \u001b[38;5;124m'\u001b[39m\u001b[38;5;124mto_node\u001b[39m\u001b[38;5;124m'\u001b[39m: [\u001b[38;5;124m'\u001b[39m\u001b[38;5;124mB\u001b[39m\u001b[38;5;124m'\u001b[39m, \u001b[38;5;124m'\u001b[39m\u001b[38;5;124mD|Y|Z\u001b[39m\u001b[38;5;124m'\u001b[39m, \u001b[38;5;124m'\u001b[39m\u001b[38;5;124mF\u001b[39m\u001b[38;5;124m'\u001b[39m],\n\u001b[0;32m   (...)\u001b[0m\n\u001b[1;32m      8\u001b[0m     \u001b[38;5;124m'\u001b[39m\u001b[38;5;124medge_weight\u001b[39m\u001b[38;5;124m'\u001b[39m: [\u001b[38;5;241m1.0\u001b[39m, \u001b[38;5;241m0.5\u001b[39m, \u001b[38;5;241m0.75\u001b[39m]\n\u001b[1;32m      9\u001b[0m })\n\u001b[1;32m     11\u001b[0m \u001b[38;5;66;03m# Call add_edges_from_dataframe with layers directly in the DataFrame\u001b[39;00m\n\u001b[0;32m---> 12\u001b[0m \u001b[43mnetwork\u001b[49m\u001b[38;5;241;43m.\u001b[39;49m\u001b[43madd_edges_from_dataframe\u001b[49m\u001b[43m(\u001b[49m\n\u001b[1;32m     13\u001b[0m \u001b[43m    \u001b[49m\u001b[43mdf_edges\u001b[49m\u001b[43m,\u001b[49m\n\u001b[1;32m     14\u001b[0m \u001b[43m    \u001b[49m\u001b[43mfrom_col\u001b[49m\u001b[38;5;241;43m=\u001b[39;49m\u001b[38;5;124;43m'\u001b[39;49m\u001b[38;5;124;43mfrom_node\u001b[39;49m\u001b[38;5;124;43m'\u001b[39;49m\u001b[43m,\u001b[49m\n\u001b[1;32m     15\u001b[0m \u001b[43m    \u001b[49m\u001b[43mto_col\u001b[49m\u001b[38;5;241;43m=\u001b[39;49m\u001b[38;5;124;43m'\u001b[39;49m\u001b[38;5;124;43mto_node\u001b[39;49m\u001b[38;5;124;43m'\u001b[39;49m\u001b[43m,\u001b[49m\n\u001b[1;32m     16\u001b[0m \u001b[43m    \u001b[49m\u001b[43mfrom_layer_col\u001b[49m\u001b[38;5;241;43m=\u001b[39;49m\u001b[38;5;124;43m'\u001b[39;49m\u001b[38;5;124;43mfrom_layer\u001b[39;49m\u001b[38;5;124;43m'\u001b[39;49m\u001b[43m,\u001b[49m\n\u001b[1;32m     17\u001b[0m \u001b[43m    \u001b[49m\u001b[43mto_layer_col\u001b[49m\u001b[38;5;241;43m=\u001b[39;49m\u001b[38;5;124;43m'\u001b[39;49m\u001b[38;5;124;43mto_layer\u001b[39;49m\u001b[38;5;124;43m'\u001b[39;49m\u001b[43m,\u001b[49m\n\u001b[1;32m     18\u001b[0m \u001b[43m    \u001b[49m\u001b[43mproperty_cols\u001b[49m\u001b[38;5;241;43m=\u001b[39;49m\u001b[43m[\u001b[49m\u001b[38;5;124;43m'\u001b[39;49m\u001b[38;5;124;43medge_type\u001b[39;49m\u001b[38;5;124;43m'\u001b[39;49m\u001b[43m,\u001b[49m\u001b[43m \u001b[49m\u001b[38;5;124;43m'\u001b[39;49m\u001b[38;5;124;43medge_weight\u001b[39;49m\u001b[38;5;124;43m'\u001b[39;49m\u001b[43m]\u001b[49m\u001b[43m,\u001b[49m\n\u001b[1;32m     19\u001b[0m \u001b[43m    \u001b[49m\u001b[43msplit_char\u001b[49m\u001b[38;5;241;43m=\u001b[39;49m\u001b[38;5;124;43m'\u001b[39;49m\u001b[38;5;124;43m|\u001b[39;49m\u001b[38;5;124;43m'\u001b[39;49m\u001b[43m,\u001b[49m\n\u001b[1;32m     20\u001b[0m \u001b[43m    \u001b[49m\u001b[43mcreate_missing\u001b[49m\u001b[38;5;241;43m=\u001b[39;49m\u001b[38;5;28;43;01mFalse\u001b[39;49;00m\u001b[43m \u001b[49m\u001b[38;5;66;43;03m# Deliberately setting this to False to test the create missing functionality\u001b[39;49;00m\n\u001b[1;32m     21\u001b[0m \u001b[43m)\u001b[49m\n",
      "File \u001b[0;32m~/Documents/Metabolomics/lipinet/lipinet/network.py:301\u001b[0m, in \u001b[0;36mMultilayerNetwork.add_edges_from_dataframe\u001b[0;34m(self, df, from_col, to_col, from_layer, to_layer, from_layer_col, to_layer_col, property_cols, split_char, create_missing, skip_if_duplicate)\u001b[0m\n\u001b[1;32m    298\u001b[0m edge_specific_properties \u001b[38;5;241m=\u001b[39m {prop: edge_properties[prop][edge_index] \u001b[38;5;28;01mfor\u001b[39;00m prop \u001b[38;5;129;01min\u001b[39;00m edge_properties}\n\u001b[1;32m    300\u001b[0m \u001b[38;5;66;03m# Add the edge with resolved properties\u001b[39;00m\n\u001b[0;32m--> 301\u001b[0m \u001b[38;5;28;43mself\u001b[39;49m\u001b[38;5;241;43m.\u001b[39;49m\u001b[43madd_edge\u001b[49m\u001b[43m(\u001b[49m\n\u001b[1;32m    302\u001b[0m \u001b[43m    \u001b[49m\u001b[43mfrom_node\u001b[49m\u001b[43m,\u001b[49m\u001b[43m \u001b[49m\u001b[43mto_node\u001b[49m\u001b[43m,\u001b[49m\n\u001b[1;32m    303\u001b[0m \u001b[43m    \u001b[49m\u001b[43mfrom_node_id\u001b[49m\u001b[38;5;241;43m=\u001b[39;49m\u001b[43mfrom_node_id\u001b[49m\u001b[43m,\u001b[49m\u001b[43m \u001b[49m\u001b[43mto_node_id\u001b[49m\u001b[38;5;241;43m=\u001b[39;49m\u001b[43mto_node_id\u001b[49m\u001b[43m,\u001b[49m\n\u001b[1;32m    304\u001b[0m \u001b[43m    \u001b[49m\u001b[43mfrom_layer\u001b[49m\u001b[38;5;241;43m=\u001b[39;49m\u001b[43meffective_from_layer\u001b[49m\u001b[43m,\u001b[49m\u001b[43m \u001b[49m\u001b[43mto_layer\u001b[49m\u001b[38;5;241;43m=\u001b[39;49m\u001b[43meffective_to_layer\u001b[49m\u001b[43m,\u001b[49m\n\u001b[1;32m    305\u001b[0m \u001b[43m    \u001b[49m\u001b[43mcreate_missing\u001b[49m\u001b[38;5;241;43m=\u001b[39;49m\u001b[43mcreate_missing\u001b[49m\u001b[43m,\u001b[49m\n\u001b[1;32m    306\u001b[0m \u001b[43m    \u001b[49m\u001b[43mskip_if_duplicate\u001b[49m\u001b[38;5;241;43m=\u001b[39;49m\u001b[43mskip_if_duplicate\u001b[49m\u001b[43m,\u001b[49m\n\u001b[1;32m    307\u001b[0m \u001b[43m    \u001b[49m\u001b[38;5;241;43m*\u001b[39;49m\u001b[38;5;241;43m*\u001b[39;49m\u001b[43medge_specific_properties\u001b[49m\n\u001b[1;32m    308\u001b[0m \u001b[43m\u001b[49m\u001b[43m)\u001b[49m\n",
      "File \u001b[0;32m~/Documents/Metabolomics/lipinet/lipinet/network.py:91\u001b[0m, in \u001b[0;36mMultilayerNetwork.add_edge\u001b[0;34m(self, from_node, to_node, from_node_id, to_node_id, from_layer, to_layer, create_missing, skip_if_duplicate, verbose, **edge_properties)\u001b[0m\n\u001b[1;32m     89\u001b[0m \u001b[38;5;28;01mif\u001b[39;00m \u001b[38;5;129;01mnot\u001b[39;00m create_missing:\n\u001b[1;32m     90\u001b[0m     \u001b[38;5;28;01mif\u001b[39;00m from_node \u001b[38;5;129;01mis\u001b[39;00m \u001b[38;5;28;01mNone\u001b[39;00m:\n\u001b[0;32m---> 91\u001b[0m         \u001b[38;5;28;01mraise\u001b[39;00m \u001b[38;5;167;01mRuntimeError\u001b[39;00m(\u001b[38;5;124mf\u001b[39m\u001b[38;5;124m\"\u001b[39m\u001b[38;5;124mNode \u001b[39m\u001b[38;5;124m'\u001b[39m\u001b[38;5;132;01m{\u001b[39;00mfrom_node_id\u001b[38;5;132;01m}\u001b[39;00m\u001b[38;5;124m'\u001b[39m\u001b[38;5;124m in layer \u001b[39m\u001b[38;5;124m'\u001b[39m\u001b[38;5;132;01m{\u001b[39;00mfrom_layer\u001b[38;5;132;01m}\u001b[39;00m\u001b[38;5;124m'\u001b[39m\u001b[38;5;124m does not exist. \u001b[39m\u001b[38;5;124m\"\u001b[39m\n\u001b[1;32m     92\u001b[0m                         \u001b[38;5;124mf\u001b[39m\u001b[38;5;124m\"\u001b[39m\u001b[38;5;124mSet `create_missing=True` to create missing nodes.\u001b[39m\u001b[38;5;124m\"\u001b[39m)\n\u001b[1;32m     93\u001b[0m     \u001b[38;5;28;01mif\u001b[39;00m to_node \u001b[38;5;129;01mis\u001b[39;00m \u001b[38;5;28;01mNone\u001b[39;00m:\n\u001b[1;32m     94\u001b[0m         \u001b[38;5;28;01mraise\u001b[39;00m \u001b[38;5;167;01mRuntimeError\u001b[39;00m(\u001b[38;5;124mf\u001b[39m\u001b[38;5;124m\"\u001b[39m\u001b[38;5;124mNode \u001b[39m\u001b[38;5;124m'\u001b[39m\u001b[38;5;132;01m{\u001b[39;00mto_node_id\u001b[38;5;132;01m}\u001b[39;00m\u001b[38;5;124m'\u001b[39m\u001b[38;5;124m in layer \u001b[39m\u001b[38;5;124m'\u001b[39m\u001b[38;5;132;01m{\u001b[39;00mto_layer\u001b[38;5;132;01m}\u001b[39;00m\u001b[38;5;124m'\u001b[39m\u001b[38;5;124m does not exist. \u001b[39m\u001b[38;5;124m\"\u001b[39m\n\u001b[1;32m     95\u001b[0m                         \u001b[38;5;124mf\u001b[39m\u001b[38;5;124m\"\u001b[39m\u001b[38;5;124mSet `create_missing=True` to create missing nodes.\u001b[39m\u001b[38;5;124m\"\u001b[39m)\n",
      "\u001b[0;31mRuntimeError\u001b[0m: Node 'A' in layer 'layer1' does not exist. Set `create_missing=True` to create missing nodes."
     ]
    }
   ],
   "source": [
    "# Sample DataFrame with layers as columns in the DataFrame\n",
    "df_edges = pd.DataFrame({\n",
    "    'from_node': ['A|X', 'C', 'E'],\n",
    "    'to_node': ['B', 'D|Y|Z', 'F'],\n",
    "    'from_layer': ['layer1', 'layer1', 'layer1'],\n",
    "    'to_layer': ['layer2', 'layer2', 'layer2'],\n",
    "    'edge_type': ['activation', 'inhibition', 'modulation'],\n",
    "    'edge_weight': [1.0, 0.5, 0.75]\n",
    "})\n",
    "\n",
    "# Call add_edges_from_dataframe with layers directly in the DataFrame\n",
    "network.add_edges_from_dataframe(\n",
    "    df_edges,\n",
    "    from_col='from_node',\n",
    "    to_col='to_node',\n",
    "    from_layer_col='from_layer',\n",
    "    to_layer_col='to_layer',\n",
    "    property_cols=['edge_type', 'edge_weight'],\n",
    "    split_char='|',\n",
    "    create_missing=False # Deliberately setting this to False to test the create missing functionality\n",
    ")"
   ]
  },
  {
   "cell_type": "code",
   "execution_count": 10,
   "metadata": {},
   "outputs": [
    {
     "name": "stdout",
     "output_type": "stream",
     "text": [
      "Node ('layer1', 'A') not found. Creating node.\n",
      "Node ('layer2', 'B') not found. Creating node.\n",
      "Edge added from A (layer1) to B (layer2) with properties: {'edge_type': 'activation', 'edge_weight': 1.0}\n",
      "Node ('layer1', 'X') not found. Creating node.\n",
      "Edge added from X (layer1) to B (layer2) with properties: {'edge_type': 'activation', 'edge_weight': 1.0}\n",
      "Node ('layer1', 'C') not found. Creating node.\n",
      "Node ('layer2', 'D') not found. Creating node.\n",
      "Edge added from C (layer1) to D (layer2) with properties: {'edge_type': 'inhibition', 'edge_weight': 0.5}\n",
      "Node ('layer2', 'Y') not found. Creating node.\n",
      "Edge added from C (layer1) to Y (layer2) with properties: {'edge_type': 'inhibition', 'edge_weight': 0.5}\n",
      "Node ('layer2', 'Z') not found. Creating node.\n",
      "Edge added from C (layer1) to Z (layer2) with properties: {'edge_type': 'inhibition', 'edge_weight': 0.5}\n",
      "Node ('layer1', 'E') not found. Creating node.\n",
      "Node ('layer2', 'F') not found. Creating node.\n",
      "Edge added from E (layer1) to F (layer2) with properties: {'edge_type': 'modulation', 'edge_weight': 0.75}\n"
     ]
    }
   ],
   "source": [
    "# Initialize the MultilayerNetwork\n",
    "# network = MultilayerNetwork()\n",
    "\n",
    "# Call add_edges_from_dataframe with layers directly in the DataFrame\n",
    "network.add_edges_from_dataframe(\n",
    "    df_edges,\n",
    "    from_col='from_node',\n",
    "    to_col='to_node',\n",
    "    from_layer_col='from_layer',\n",
    "    to_layer_col='to_layer',\n",
    "    property_cols=['edge_type', 'edge_weight'],\n",
    "    split_char='|',\n",
    "    create_missing=True\n",
    ")"
   ]
  },
  {
   "cell_type": "code",
   "execution_count": 11,
   "metadata": {},
   "outputs": [
    {
     "data": {
      "text/html": [
       "<div>\n",
       "<style scoped>\n",
       "    .dataframe tbody tr th:only-of-type {\n",
       "        vertical-align: middle;\n",
       "    }\n",
       "\n",
       "    .dataframe tbody tr th {\n",
       "        vertical-align: top;\n",
       "    }\n",
       "\n",
       "    .dataframe thead th {\n",
       "        text-align: right;\n",
       "    }\n",
       "</style>\n",
       "<table border=\"1\" class=\"dataframe\">\n",
       "  <thead>\n",
       "    <tr style=\"text-align: right;\">\n",
       "      <th></th>\n",
       "      <th>from_node</th>\n",
       "      <th>to_node</th>\n",
       "      <th>from_layer</th>\n",
       "      <th>to_layer</th>\n",
       "      <th>edge_type</th>\n",
       "      <th>edge_weight</th>\n",
       "    </tr>\n",
       "  </thead>\n",
       "  <tbody>\n",
       "    <tr>\n",
       "      <th>0</th>\n",
       "      <td>A</td>\n",
       "      <td>B</td>\n",
       "      <td>layer1</td>\n",
       "      <td>layer2</td>\n",
       "      <td>activation</td>\n",
       "      <td>1.00</td>\n",
       "    </tr>\n",
       "    <tr>\n",
       "      <th>1</th>\n",
       "      <td>C</td>\n",
       "      <td>D</td>\n",
       "      <td>layer1</td>\n",
       "      <td>layer2</td>\n",
       "      <td>inhibition</td>\n",
       "      <td>0.50</td>\n",
       "    </tr>\n",
       "    <tr>\n",
       "      <th>2</th>\n",
       "      <td>E</td>\n",
       "      <td>F</td>\n",
       "      <td>layer1</td>\n",
       "      <td>layer2</td>\n",
       "      <td>modulation</td>\n",
       "      <td>0.75</td>\n",
       "    </tr>\n",
       "  </tbody>\n",
       "</table>\n",
       "</div>"
      ],
      "text/plain": [
       "  from_node to_node from_layer to_layer   edge_type  edge_weight\n",
       "0         A       B     layer1   layer2  activation         1.00\n",
       "1         C       D     layer1   layer2  inhibition         0.50\n",
       "2         E       F     layer1   layer2  modulation         0.75"
      ]
     },
     "execution_count": 11,
     "metadata": {},
     "output_type": "execute_result"
    }
   ],
   "source": [
    "# Create a DataFrame with three rows\n",
    "df_edges = pd.DataFrame({\n",
    "    'from_node': ['A', 'C', 'E'],\n",
    "    'to_node': ['B', 'D', 'F'],\n",
    "    'from_layer': ['layer1', 'layer1', 'layer1'],\n",
    "    'to_layer': ['layer2', 'layer2', 'layer2'],\n",
    "    'edge_type': ['activation', 'inhibition', 'modulation'],\n",
    "    'edge_weight': [1.0, 0.5, 0.75]\n",
    "})\n",
    "df_edges"
   ]
  },
  {
   "cell_type": "code",
   "execution_count": 12,
   "metadata": {},
   "outputs": [
    {
     "data": {
      "text/plain": [
       "['layer', 'authority', 'node_type', 'node_id', 'extra_info', 'reaction_type']"
      ]
     },
     "execution_count": 12,
     "metadata": {},
     "output_type": "execute_result"
    }
   ],
   "source": [
    "list(network.graph.vertex_properties)"
   ]
  },
  {
   "cell_type": "code",
   "execution_count": 13,
   "metadata": {},
   "outputs": [
    {
     "ename": "ValueError",
     "evalue": "Either `from_layer` or `from_layer_col` must be specified for source node layers.",
     "output_type": "error",
     "traceback": [
      "\u001b[0;31m---------------------------------------------------------------------------\u001b[0m",
      "\u001b[0;31mValueError\u001b[0m                                Traceback (most recent call last)",
      "Cell \u001b[0;32mIn[13], line 12\u001b[0m\n\u001b[1;32m      2\u001b[0m df_edges \u001b[38;5;241m=\u001b[39m pd\u001b[38;5;241m.\u001b[39mDataFrame({\n\u001b[1;32m      3\u001b[0m     \u001b[38;5;124m'\u001b[39m\u001b[38;5;124mfrom_node\u001b[39m\u001b[38;5;124m'\u001b[39m: [\u001b[38;5;124m'\u001b[39m\u001b[38;5;124mA|X\u001b[39m\u001b[38;5;124m'\u001b[39m, \u001b[38;5;124m'\u001b[39m\u001b[38;5;124mC\u001b[39m\u001b[38;5;124m'\u001b[39m, \u001b[38;5;124m'\u001b[39m\u001b[38;5;124mE\u001b[39m\u001b[38;5;124m'\u001b[39m],\n\u001b[1;32m      4\u001b[0m     \u001b[38;5;124m'\u001b[39m\u001b[38;5;124mto_node\u001b[39m\u001b[38;5;124m'\u001b[39m: [\u001b[38;5;124m'\u001b[39m\u001b[38;5;124mB\u001b[39m\u001b[38;5;124m'\u001b[39m, \u001b[38;5;124m'\u001b[39m\u001b[38;5;124mD|Y|Z\u001b[39m\u001b[38;5;124m'\u001b[39m, \u001b[38;5;124m'\u001b[39m\u001b[38;5;124mF\u001b[39m\u001b[38;5;124m'\u001b[39m],\n\u001b[0;32m   (...)\u001b[0m\n\u001b[1;32m      8\u001b[0m     \u001b[38;5;124m'\u001b[39m\u001b[38;5;124medge_weight\u001b[39m\u001b[38;5;124m'\u001b[39m: [\u001b[38;5;241m1.0\u001b[39m, \u001b[38;5;241m0.5\u001b[39m, \u001b[38;5;241m0.75\u001b[39m]\n\u001b[1;32m      9\u001b[0m })\n\u001b[1;32m     11\u001b[0m \u001b[38;5;66;03m# Call add_edges_from_dataframe with layers directly in the DataFrame\u001b[39;00m\n\u001b[0;32m---> 12\u001b[0m \u001b[43mnetwork\u001b[49m\u001b[38;5;241;43m.\u001b[39;49m\u001b[43madd_edges_from_dataframe\u001b[49m\u001b[43m(\u001b[49m\n\u001b[1;32m     13\u001b[0m \u001b[43m    \u001b[49m\u001b[43mdf_edges\u001b[49m\u001b[43m,\u001b[49m\n\u001b[1;32m     14\u001b[0m \u001b[43m    \u001b[49m\u001b[43mfrom_col\u001b[49m\u001b[38;5;241;43m=\u001b[39;49m\u001b[38;5;124;43m'\u001b[39;49m\u001b[38;5;124;43mfrom_node\u001b[39;49m\u001b[38;5;124;43m'\u001b[39;49m\u001b[43m,\u001b[49m\n\u001b[1;32m     15\u001b[0m \u001b[43m    \u001b[49m\u001b[43mto_col\u001b[49m\u001b[38;5;241;43m=\u001b[39;49m\u001b[38;5;124;43m'\u001b[39;49m\u001b[38;5;124;43mto_node\u001b[39;49m\u001b[38;5;124;43m'\u001b[39;49m\u001b[43m,\u001b[49m\n\u001b[1;32m     16\u001b[0m \u001b[43m    \u001b[49m\u001b[43mproperty_cols\u001b[49m\u001b[38;5;241;43m=\u001b[39;49m\u001b[43m[\u001b[49m\u001b[38;5;124;43m'\u001b[39;49m\u001b[38;5;124;43medge_type\u001b[39;49m\u001b[38;5;124;43m'\u001b[39;49m\u001b[43m,\u001b[49m\u001b[43m \u001b[49m\u001b[38;5;124;43m'\u001b[39;49m\u001b[38;5;124;43medge_weight\u001b[39;49m\u001b[38;5;124;43m'\u001b[39;49m\u001b[43m]\u001b[49m\u001b[43m,\u001b[49m\n\u001b[1;32m     17\u001b[0m \u001b[43m    \u001b[49m\u001b[43msplit_char\u001b[49m\u001b[38;5;241;43m=\u001b[39;49m\u001b[38;5;124;43m'\u001b[39;49m\u001b[38;5;124;43m|\u001b[39;49m\u001b[38;5;124;43m'\u001b[39;49m\n\u001b[1;32m     18\u001b[0m \u001b[43m)\u001b[49m\n",
      "File \u001b[0;32m~/Documents/Metabolomics/lipinet/lipinet/network.py:278\u001b[0m, in \u001b[0;36mMultilayerNetwork.add_edges_from_dataframe\u001b[0;34m(self, df, from_col, to_col, from_layer, to_layer, from_layer_col, to_layer_col, property_cols, split_char, create_missing, skip_if_duplicate)\u001b[0m\n\u001b[1;32m    276\u001b[0m \u001b[38;5;66;03m# Ensure that either a fixed layer or a column is provided for source and target layers\u001b[39;00m\n\u001b[1;32m    277\u001b[0m \u001b[38;5;28;01mif\u001b[39;00m from_layer \u001b[38;5;129;01mis\u001b[39;00m \u001b[38;5;28;01mNone\u001b[39;00m \u001b[38;5;129;01mand\u001b[39;00m from_layer_col \u001b[38;5;129;01mis\u001b[39;00m \u001b[38;5;28;01mNone\u001b[39;00m:\n\u001b[0;32m--> 278\u001b[0m     \u001b[38;5;28;01mraise\u001b[39;00m \u001b[38;5;167;01mValueError\u001b[39;00m(\u001b[38;5;124m\"\u001b[39m\u001b[38;5;124mEither `from_layer` or `from_layer_col` must be specified for source node layers.\u001b[39m\u001b[38;5;124m\"\u001b[39m)\n\u001b[1;32m    279\u001b[0m \u001b[38;5;28;01mif\u001b[39;00m to_layer \u001b[38;5;129;01mis\u001b[39;00m \u001b[38;5;28;01mNone\u001b[39;00m \u001b[38;5;129;01mand\u001b[39;00m to_layer_col \u001b[38;5;129;01mis\u001b[39;00m \u001b[38;5;28;01mNone\u001b[39;00m:\n\u001b[1;32m    280\u001b[0m     \u001b[38;5;28;01mraise\u001b[39;00m \u001b[38;5;167;01mValueError\u001b[39;00m(\u001b[38;5;124m\"\u001b[39m\u001b[38;5;124mEither `to_layer` or `to_layer_col` must be specified for target node layers.\u001b[39m\u001b[38;5;124m\"\u001b[39m)\n",
      "\u001b[0;31mValueError\u001b[0m: Either `from_layer` or `from_layer_col` must be specified for source node layers."
     ]
    }
   ],
   "source": [
    "# Sample DataFrame with layers as columns in the DataFrame\n",
    "df_edges = pd.DataFrame({\n",
    "    'from_node': ['A|X', 'C', 'E'],\n",
    "    'to_node': ['B', 'D|Y|Z', 'F'],\n",
    "    'from_layer': ['layer1', 'layer1', 'layer1'],\n",
    "    'to_layer': ['layer2', 'layer2', 'layer2'],\n",
    "    'edge_type': ['activation', 'inhibition', 'modulation'],\n",
    "    'edge_weight': [1.0, 0.5, 0.75]\n",
    "})\n",
    "\n",
    "# Call add_edges_from_dataframe with layers directly in the DataFrame\n",
    "network.add_edges_from_dataframe(\n",
    "    df_edges,\n",
    "    from_col='from_node',\n",
    "    to_col='to_node',\n",
    "    property_cols=['edge_type', 'edge_weight'],\n",
    "    split_char='|'\n",
    ")"
   ]
  },
  {
   "cell_type": "code",
   "execution_count": 14,
   "metadata": {},
   "outputs": [
    {
     "name": "stdout",
     "output_type": "stream",
     "text": [
      "Identical edge from A (layer1) to B (layer2) exists. Skipping due to 'exact' duplicate policy.\n",
      "Identical edge from X (layer1) to B (layer2) exists. Skipping due to 'exact' duplicate policy.\n",
      "Identical edge from C (layer1) to D (layer2) exists. Skipping due to 'exact' duplicate policy.\n",
      "Identical edge from C (layer1) to Y (layer2) exists. Skipping due to 'exact' duplicate policy.\n",
      "Identical edge from C (layer1) to Z (layer2) exists. Skipping due to 'exact' duplicate policy.\n",
      "Identical edge from E (layer1) to F (layer2) exists. Skipping due to 'exact' duplicate policy.\n"
     ]
    }
   ],
   "source": [
    "# Sample DataFrame without layer columns\n",
    "df_edges = pd.DataFrame({\n",
    "    'from_node': ['A|X', 'C', 'E'],\n",
    "    'to_node': ['B', 'D|Y|Z', 'F'],\n",
    "    'edge_type': ['activation', 'inhibition', 'modulation'],\n",
    "    'edge_weight': [1.0, 0.5, 0.75]\n",
    "})\n",
    "\n",
    "# Call add_edges_from_dataframe with layers specified as parameters\n",
    "network.add_edges_from_dataframe(\n",
    "    df_edges,\n",
    "    from_col='from_node',\n",
    "    to_col='to_node',\n",
    "    from_layer='layer1',\n",
    "    to_layer='layer2',\n",
    "    property_cols=['edge_type', 'edge_weight'],\n",
    "    split_char='|'\n",
    ")"
   ]
  },
  {
   "cell_type": "code",
   "execution_count": 15,
   "metadata": {},
   "outputs": [
    {
     "name": "stdout",
     "output_type": "stream",
     "text": [
      "Identical edge from A (layer1) to B (layer2) exists. Skipping due to 'exact' duplicate policy.\n",
      "Identical edge from X (layer1) to B (layer2) exists. Skipping due to 'exact' duplicate policy.\n",
      "Identical edge from C (layer1) to D (layer2) exists. Skipping due to 'exact' duplicate policy.\n",
      "Identical edge from C (layer1) to Y (layer2) exists. Skipping due to 'exact' duplicate policy.\n",
      "Identical edge from C (layer1) to Z (layer2) exists. Skipping due to 'exact' duplicate policy.\n",
      "Identical edge from E (layer1) to F (layer2) exists. Skipping due to 'exact' duplicate policy.\n"
     ]
    }
   ],
   "source": [
    "# Call add_edges_from_dataframe with layers specified as parameters\n",
    "network.add_edges_from_dataframe(\n",
    "    df_edges,\n",
    "    from_col='from_node',\n",
    "    to_col='to_node',\n",
    "    from_layer='layer1',\n",
    "    to_layer='layer2',\n",
    "    property_cols=['edge_type', 'edge_weight'],\n",
    "    split_char='|'\n",
    ")"
   ]
  },
  {
   "cell_type": "markdown",
   "metadata": {},
   "source": [
    "Now for a more realistic example"
   ]
  },
  {
   "cell_type": "code",
   "execution_count": 17,
   "metadata": {},
   "outputs": [
    {
     "data": {
      "text/html": [
       "<div>\n",
       "<style scoped>\n",
       "    .dataframe tbody tr th:only-of-type {\n",
       "        vertical-align: middle;\n",
       "    }\n",
       "\n",
       "    .dataframe tbody tr th {\n",
       "        vertical-align: top;\n",
       "    }\n",
       "\n",
       "    .dataframe thead th {\n",
       "        text-align: right;\n",
       "    }\n",
       "</style>\n",
       "<table border=\"1\" class=\"dataframe\">\n",
       "  <thead>\n",
       "    <tr style=\"text-align: right;\">\n",
       "      <th></th>\n",
       "      <th>from_node</th>\n",
       "      <th>to_node</th>\n",
       "      <th>from_layer</th>\n",
       "      <th>to_layer</th>\n",
       "      <th>edge_type</th>\n",
       "      <th>edge_weight</th>\n",
       "      <th>confidence_score</th>\n",
       "    </tr>\n",
       "  </thead>\n",
       "  <tbody>\n",
       "    <tr>\n",
       "      <th>0</th>\n",
       "      <td>GeneA|GeneB</td>\n",
       "      <td>ProteinX|ProteinY</td>\n",
       "      <td>genes</td>\n",
       "      <td>proteins</td>\n",
       "      <td>activation</td>\n",
       "      <td>0.90</td>\n",
       "      <td>0.95</td>\n",
       "    </tr>\n",
       "    <tr>\n",
       "      <th>1</th>\n",
       "      <td>ProteinX</td>\n",
       "      <td>MetaboliteY</td>\n",
       "      <td>proteins</td>\n",
       "      <td>metabolites</td>\n",
       "      <td>inhibition</td>\n",
       "      <td>0.50</td>\n",
       "      <td>0.85</td>\n",
       "    </tr>\n",
       "    <tr>\n",
       "      <th>2</th>\n",
       "      <td>MetaboliteY</td>\n",
       "      <td>MetaboliteZ</td>\n",
       "      <td>metabolites</td>\n",
       "      <td>metabolites</td>\n",
       "      <td>conversion</td>\n",
       "      <td>1.00</td>\n",
       "      <td>0.99</td>\n",
       "    </tr>\n",
       "    <tr>\n",
       "      <th>3</th>\n",
       "      <td>GeneC</td>\n",
       "      <td>GeneD</td>\n",
       "      <td>genes</td>\n",
       "      <td>genes</td>\n",
       "      <td>binding</td>\n",
       "      <td>0.30</td>\n",
       "      <td>0.60</td>\n",
       "    </tr>\n",
       "    <tr>\n",
       "      <th>4</th>\n",
       "      <td>GeneD|GeneE</td>\n",
       "      <td>ProteinZ</td>\n",
       "      <td>genes</td>\n",
       "      <td>proteins</td>\n",
       "      <td>modulation</td>\n",
       "      <td>0.75</td>\n",
       "      <td>0.80</td>\n",
       "    </tr>\n",
       "  </tbody>\n",
       "</table>\n",
       "</div>"
      ],
      "text/plain": [
       "     from_node            to_node   from_layer     to_layer   edge_type  \\\n",
       "0  GeneA|GeneB  ProteinX|ProteinY        genes     proteins  activation   \n",
       "1     ProteinX        MetaboliteY     proteins  metabolites  inhibition   \n",
       "2  MetaboliteY        MetaboliteZ  metabolites  metabolites  conversion   \n",
       "3        GeneC              GeneD        genes        genes     binding   \n",
       "4  GeneD|GeneE           ProteinZ        genes     proteins  modulation   \n",
       "\n",
       "   edge_weight  confidence_score  \n",
       "0         0.90              0.95  \n",
       "1         0.50              0.85  \n",
       "2         1.00              0.99  \n",
       "3         0.30              0.60  \n",
       "4         0.75              0.80  "
      ]
     },
     "metadata": {},
     "output_type": "display_data"
    }
   ],
   "source": [
    "# Creating the DataFrame with realistic and complex edge data\n",
    "df_edges = pd.DataFrame({\n",
    "    'from_node': ['GeneA|GeneB', 'ProteinX', 'MetaboliteY', 'GeneC', 'GeneD|GeneE'],\n",
    "    'to_node': ['ProteinX|ProteinY', 'MetaboliteY', 'MetaboliteZ', 'GeneD', 'ProteinZ'],\n",
    "    'from_layer': ['genes', 'proteins', 'metabolites', 'genes', 'genes'],\n",
    "    'to_layer': ['proteins', 'metabolites', 'metabolites', 'genes', 'proteins'],\n",
    "    'edge_type': ['activation', 'inhibition', 'conversion', 'binding', 'modulation'],\n",
    "    'edge_weight': [0.9, 0.5, 1.0, 0.3, 0.75],\n",
    "    'confidence_score': [0.95, 0.85, 0.99, 0.6, 0.8]\n",
    "})\n",
    "\n",
    "# Display the DataFrame for reference\n",
    "display(df_edges)"
   ]
  },
  {
   "cell_type": "code",
   "execution_count": 21,
   "metadata": {},
   "outputs": [
    {
     "name": "stdout",
     "output_type": "stream",
     "text": [
      "Identical edge from GeneA (genes) to ProteinX (proteins) exists. Skipping due to 'exact' duplicate policy.\n",
      "Identical edge from GeneA (genes) to ProteinY (proteins) exists. Skipping due to 'exact' duplicate policy.\n",
      "Identical edge from GeneB (genes) to ProteinX (proteins) exists. Skipping due to 'exact' duplicate policy.\n",
      "Identical edge from GeneB (genes) to ProteinY (proteins) exists. Skipping due to 'exact' duplicate policy.\n",
      "Identical edge from ProteinX (proteins) to MetaboliteY (metabolites) exists. Skipping due to 'exact' duplicate policy.\n",
      "Identical edge from MetaboliteY (metabolites) to MetaboliteZ (metabolites) exists. Skipping due to 'exact' duplicate policy.\n",
      "Identical edge from GeneC (genes) to GeneD (genes) exists. Skipping due to 'exact' duplicate policy.\n",
      "Identical edge from GeneD (genes) to ProteinZ (proteins) exists. Skipping due to 'exact' duplicate policy.\n",
      "Identical edge from GeneE (genes) to ProteinZ (proteins) exists. Skipping due to 'exact' duplicate policy.\n"
     ]
    }
   ],
   "source": [
    "network.add_edges_from_dataframe(\n",
    "    df_edges,\n",
    "    from_col='from_node',\n",
    "    to_col='to_node',\n",
    "    from_layer_col='from_layer',   # Source layer column in the DataFrame\n",
    "    to_layer_col='to_layer',       # Target layer column in the DataFrame\n",
    "    property_cols=['edge_type', 'edge_weight', 'confidence_score'],\n",
    "    split_char='|',\n",
    "    create_missing=True,           # Allow the creation of missing nodes\n",
    "    skip_if_duplicate=\"exact\"      # Avoid duplicate edges with identical properties\n",
    ")"
   ]
  },
  {
   "cell_type": "markdown",
   "metadata": {},
   "source": [
    "Now a more complicated example"
   ]
  },
  {
   "cell_type": "code",
   "execution_count": 22,
   "metadata": {},
   "outputs": [
    {
     "data": {
      "text/html": [
       "<div>\n",
       "<style scoped>\n",
       "    .dataframe tbody tr th:only-of-type {\n",
       "        vertical-align: middle;\n",
       "    }\n",
       "\n",
       "    .dataframe tbody tr th {\n",
       "        vertical-align: top;\n",
       "    }\n",
       "\n",
       "    .dataframe thead th {\n",
       "        text-align: right;\n",
       "    }\n",
       "</style>\n",
       "<table border=\"1\" class=\"dataframe\">\n",
       "  <thead>\n",
       "    <tr style=\"text-align: right;\">\n",
       "      <th></th>\n",
       "      <th>from_node</th>\n",
       "      <th>to_node</th>\n",
       "      <th>from_layer</th>\n",
       "      <th>to_layer</th>\n",
       "      <th>edge_type</th>\n",
       "      <th>edge_weight</th>\n",
       "      <th>confidence_score</th>\n",
       "    </tr>\n",
       "  </thead>\n",
       "  <tbody>\n",
       "    <tr>\n",
       "      <th>0</th>\n",
       "      <td>GeneA|GeneB</td>\n",
       "      <td>ProteinX|ProteinY</td>\n",
       "      <td>genes</td>\n",
       "      <td>proteins</td>\n",
       "      <td>activation</td>\n",
       "      <td>0.90</td>\n",
       "      <td>0.95</td>\n",
       "    </tr>\n",
       "    <tr>\n",
       "      <th>1</th>\n",
       "      <td>GeneF</td>\n",
       "      <td>MetaboliteY</td>\n",
       "      <td>genes</td>\n",
       "      <td>metabolites</td>\n",
       "      <td>inhibition</td>\n",
       "      <td>0.70</td>\n",
       "      <td>0.80</td>\n",
       "    </tr>\n",
       "    <tr>\n",
       "      <th>2</th>\n",
       "      <td>ProteinX|ProteinW</td>\n",
       "      <td>MetaboliteZ</td>\n",
       "      <td>proteins</td>\n",
       "      <td>metabolites</td>\n",
       "      <td>conversion</td>\n",
       "      <td>1.00</td>\n",
       "      <td>0.99</td>\n",
       "    </tr>\n",
       "    <tr>\n",
       "      <th>3</th>\n",
       "      <td>MetaboliteY</td>\n",
       "      <td>ProteinZ|ProteinW</td>\n",
       "      <td>metabolites</td>\n",
       "      <td>proteins</td>\n",
       "      <td>binding</td>\n",
       "      <td>0.30</td>\n",
       "      <td>0.60</td>\n",
       "    </tr>\n",
       "    <tr>\n",
       "      <th>4</th>\n",
       "      <td>GeneC</td>\n",
       "      <td>GeneD</td>\n",
       "      <td>genes</td>\n",
       "      <td>genes</td>\n",
       "      <td>binding</td>\n",
       "      <td>0.40</td>\n",
       "      <td>0.70</td>\n",
       "    </tr>\n",
       "    <tr>\n",
       "      <th>5</th>\n",
       "      <td>GeneD|GeneE</td>\n",
       "      <td>ProteinZ</td>\n",
       "      <td>genes</td>\n",
       "      <td>proteins</td>\n",
       "      <td>modulation</td>\n",
       "      <td>0.75</td>\n",
       "      <td>0.80</td>\n",
       "    </tr>\n",
       "    <tr>\n",
       "      <th>6</th>\n",
       "      <td>GeneG</td>\n",
       "      <td>ProteinB</td>\n",
       "      <td>genes</td>\n",
       "      <td>proteins</td>\n",
       "      <td>activation</td>\n",
       "      <td>0.80</td>\n",
       "      <td>0.90</td>\n",
       "    </tr>\n",
       "    <tr>\n",
       "      <th>7</th>\n",
       "      <td>ProteinA</td>\n",
       "      <td>MetaboliteA|MetaboliteB</td>\n",
       "      <td>proteins</td>\n",
       "      <td>metabolites</td>\n",
       "      <td>transport</td>\n",
       "      <td>0.65</td>\n",
       "      <td>0.85</td>\n",
       "    </tr>\n",
       "  </tbody>\n",
       "</table>\n",
       "</div>"
      ],
      "text/plain": [
       "           from_node                  to_node   from_layer     to_layer  \\\n",
       "0        GeneA|GeneB        ProteinX|ProteinY        genes     proteins   \n",
       "1              GeneF              MetaboliteY        genes  metabolites   \n",
       "2  ProteinX|ProteinW              MetaboliteZ     proteins  metabolites   \n",
       "3        MetaboliteY        ProteinZ|ProteinW  metabolites     proteins   \n",
       "4              GeneC                    GeneD        genes        genes   \n",
       "5        GeneD|GeneE                 ProteinZ        genes     proteins   \n",
       "6              GeneG                 ProteinB        genes     proteins   \n",
       "7           ProteinA  MetaboliteA|MetaboliteB     proteins  metabolites   \n",
       "\n",
       "    edge_type  edge_weight  confidence_score  \n",
       "0  activation         0.90              0.95  \n",
       "1  inhibition         0.70              0.80  \n",
       "2  conversion         1.00              0.99  \n",
       "3     binding         0.30              0.60  \n",
       "4     binding         0.40              0.70  \n",
       "5  modulation         0.75              0.80  \n",
       "6  activation         0.80              0.90  \n",
       "7   transport         0.65              0.85  "
      ]
     },
     "metadata": {},
     "output_type": "display_data"
    }
   ],
   "source": [
    "# Expanded DataFrame with additional nodes and edges\n",
    "df_edges = pd.DataFrame({\n",
    "    'from_node': ['GeneA|GeneB', 'GeneF', 'ProteinX|ProteinW', 'MetaboliteY', 'GeneC', 'GeneD|GeneE', 'GeneG', 'ProteinA'],\n",
    "    'to_node': ['ProteinX|ProteinY', 'MetaboliteY', 'MetaboliteZ', 'ProteinZ|ProteinW', 'GeneD', 'ProteinZ', 'ProteinB', 'MetaboliteA|MetaboliteB'],\n",
    "    'from_layer': ['genes', 'genes', 'proteins', 'metabolites', 'genes', 'genes', 'genes', 'proteins'],\n",
    "    'to_layer': ['proteins', 'metabolites', 'metabolites', 'proteins', 'genes', 'proteins', 'proteins', 'metabolites'],\n",
    "    'edge_type': ['activation', 'inhibition', 'conversion', 'binding', 'binding', 'modulation', 'activation', 'transport'],\n",
    "    'edge_weight': [0.9, 0.7, 1.0, 0.3, 0.4, 0.75, 0.8, 0.65],\n",
    "    'confidence_score': [0.95, 0.8, 0.99, 0.6, 0.7, 0.8, 0.9, 0.85]\n",
    "})\n",
    "\n",
    "# Display the DataFrame for reference\n",
    "display(df_edges)"
   ]
  },
  {
   "cell_type": "code",
   "execution_count": 25,
   "metadata": {},
   "outputs": [
    {
     "name": "stdout",
     "output_type": "stream",
     "text": [
      "Node ('genes', 'GeneA') not found. Creating node.\n",
      "Node ('proteins', 'ProteinX') not found. Creating node.\n",
      "Edge added from GeneA (genes) to ProteinX (proteins) with properties: {'edge_type': 'activation', 'edge_weight': 0.9, 'confidence_score': 0.95}\n",
      "Node ('proteins', 'ProteinY') not found. Creating node.\n",
      "Edge added from GeneA (genes) to ProteinY (proteins) with properties: {'edge_type': 'activation', 'edge_weight': 0.9, 'confidence_score': 0.95}\n",
      "Node ('genes', 'GeneB') not found. Creating node.\n",
      "Edge added from GeneB (genes) to ProteinX (proteins) with properties: {'edge_type': 'activation', 'edge_weight': 0.9, 'confidence_score': 0.95}\n",
      "Edge added from GeneB (genes) to ProteinY (proteins) with properties: {'edge_type': 'activation', 'edge_weight': 0.9, 'confidence_score': 0.95}\n",
      "Node ('genes', 'GeneF') not found. Creating node.\n",
      "Node ('metabolites', 'MetaboliteY') not found. Creating node.\n",
      "Edge added from GeneF (genes) to MetaboliteY (metabolites) with properties: {'edge_type': 'inhibition', 'edge_weight': 0.7, 'confidence_score': 0.8}\n",
      "Node ('metabolites', 'MetaboliteZ') not found. Creating node.\n",
      "Edge added from ProteinX (proteins) to MetaboliteZ (metabolites) with properties: {'edge_type': 'conversion', 'edge_weight': 1.0, 'confidence_score': 0.99}\n",
      "Node ('proteins', 'ProteinW') not found. Creating node.\n",
      "Edge added from ProteinW (proteins) to MetaboliteZ (metabolites) with properties: {'edge_type': 'conversion', 'edge_weight': 1.0, 'confidence_score': 0.99}\n",
      "Node ('proteins', 'ProteinZ') not found. Creating node.\n",
      "Edge added from MetaboliteY (metabolites) to ProteinZ (proteins) with properties: {'edge_type': 'binding', 'edge_weight': 0.3, 'confidence_score': 0.6}\n",
      "Edge added from MetaboliteY (metabolites) to ProteinW (proteins) with properties: {'edge_type': 'binding', 'edge_weight': 0.3, 'confidence_score': 0.6}\n",
      "Node ('genes', 'GeneC') not found. Creating node.\n",
      "Node ('genes', 'GeneD') not found. Creating node.\n",
      "Edge added from GeneC (genes) to GeneD (genes) with properties: {'edge_type': 'binding', 'edge_weight': 0.4, 'confidence_score': 0.7}\n",
      "Edge added from GeneD (genes) to ProteinZ (proteins) with properties: {'edge_type': 'modulation', 'edge_weight': 0.75, 'confidence_score': 0.8}\n",
      "Node ('genes', 'GeneE') not found. Creating node.\n",
      "Edge added from GeneE (genes) to ProteinZ (proteins) with properties: {'edge_type': 'modulation', 'edge_weight': 0.75, 'confidence_score': 0.8}\n",
      "Node ('genes', 'GeneG') not found. Creating node.\n",
      "Node ('proteins', 'ProteinB') not found. Creating node.\n",
      "Edge added from GeneG (genes) to ProteinB (proteins) with properties: {'edge_type': 'activation', 'edge_weight': 0.8, 'confidence_score': 0.9}\n",
      "Node ('proteins', 'ProteinA') not found. Creating node.\n",
      "Node ('metabolites', 'MetaboliteA') not found. Creating node.\n",
      "Edge added from ProteinA (proteins) to MetaboliteA (metabolites) with properties: {'edge_type': 'transport', 'edge_weight': 0.65, 'confidence_score': 0.85}\n",
      "Node ('metabolites', 'MetaboliteB') not found. Creating node.\n",
      "Edge added from ProteinA (proteins) to MetaboliteB (metabolites) with properties: {'edge_type': 'transport', 'edge_weight': 0.65, 'confidence_score': 0.85}\n"
     ]
    }
   ],
   "source": [
    "# Initialize the MultilayerNetwork\n",
    "network = MultilayerNetwork()\n",
    "\n",
    "network.add_edges_from_dataframe(\n",
    "    df_edges,\n",
    "    from_col='from_node',\n",
    "    to_col='to_node',\n",
    "    from_layer_col='from_layer',   # Source layer column in the DataFrame\n",
    "    to_layer_col='to_layer',       # Target layer column in the DataFrame\n",
    "    property_cols=['edge_type', 'edge_weight', 'confidence_score'],\n",
    "    split_char='|',\n",
    "    create_missing=True,           # Allow the creation of missing nodes\n",
    "    skip_if_duplicate=\"exact\"      # Avoid duplicate edges with identical properties\n",
    ")"
   ]
  },
  {
   "cell_type": "code",
   "execution_count": 28,
   "metadata": {},
   "outputs": [
    {
     "data": {
      "text/plain": [
       "{('v',\n",
       "  'layer'): <VertexPropertyMap object with value type 'string', for Graph 0x30415b290, at 0x30415b5f0>,\n",
       " ('v',\n",
       "  'authority'): <VertexPropertyMap object with value type 'string', for Graph 0x30415b290, at 0x30415bc20>,\n",
       " ('v',\n",
       "  'node_type'): <VertexPropertyMap object with value type 'string', for Graph 0x30415b290, at 0x30415b9b0>,\n",
       " ('v',\n",
       "  'node_id'): <VertexPropertyMap object with value type 'string', for Graph 0x30415b290, at 0x304159a60>,\n",
       " ('e',\n",
       "  'weight'): <EdgePropertyMap object with value type 'double', for Graph 0x30415b290, at 0x3041591c0>,\n",
       " ('e',\n",
       "  'edge_layertype'): <EdgePropertyMap object with value type 'string', for Graph 0x30415b290, at 0x304159790>,\n",
       " ('e',\n",
       "  'edge_type'): <EdgePropertyMap object with value type 'string', for Graph 0x30415b290, at 0x304159c10>,\n",
       " ('e',\n",
       "  'edge_weight'): <EdgePropertyMap object with value type 'double', for Graph 0x30415b290, at 0x304159340>,\n",
       " ('e',\n",
       "  'confidence_score'): <EdgePropertyMap object with value type 'double', for Graph 0x30415b290, at 0x304159b80>}"
      ]
     },
     "execution_count": 28,
     "metadata": {},
     "output_type": "execute_result"
    }
   ],
   "source": [
    "network.graph.properties"
   ]
  },
  {
   "cell_type": "code",
   "execution_count": 31,
   "metadata": {},
   "outputs": [
    {
     "data": {
      "text/plain": [
       "['GeneA',\n",
       " 'ProteinX',\n",
       " 'ProteinY',\n",
       " 'GeneB',\n",
       " 'GeneF',\n",
       " 'MetaboliteY',\n",
       " 'MetaboliteZ',\n",
       " 'ProteinW',\n",
       " 'ProteinZ',\n",
       " 'GeneC',\n",
       " 'GeneD',\n",
       " 'GeneE',\n",
       " 'GeneG',\n",
       " 'ProteinB',\n",
       " 'ProteinA',\n",
       " 'MetaboliteA',\n",
       " 'MetaboliteB']"
      ]
     },
     "execution_count": 31,
     "metadata": {},
     "output_type": "execute_result"
    }
   ],
   "source": [
    "list(network.graph.vp['node_id'])"
   ]
  },
  {
   "cell_type": "code",
   "execution_count": 35,
   "metadata": {},
   "outputs": [
    {
     "name": "stdout",
     "output_type": "stream",
     "text": [
      "Edge from node 0 ('GeneA', 'genes') to node 1 ('ProteinX', 'proteins'):\n",
      "  Type: activation\n",
      "  Weight: 0.9\n",
      "  Confidence Score: 0.95\n",
      "Edge from node 0 ('GeneA', 'genes') to node 2 ('ProteinY', 'proteins'):\n",
      "  Type: activation\n",
      "  Weight: 0.9\n",
      "  Confidence Score: 0.95\n",
      "Edge from node 1 ('ProteinX', 'proteins') to node 6 ('MetaboliteZ', 'metabolites'):\n",
      "  Type: conversion\n",
      "  Weight: 1.0\n",
      "  Confidence Score: 0.99\n",
      "Edge from node 3 ('GeneB', 'genes') to node 1 ('ProteinX', 'proteins'):\n",
      "  Type: activation\n",
      "  Weight: 0.9\n",
      "  Confidence Score: 0.95\n",
      "Edge from node 3 ('GeneB', 'genes') to node 2 ('ProteinY', 'proteins'):\n",
      "  Type: activation\n",
      "  Weight: 0.9\n",
      "  Confidence Score: 0.95\n",
      "Edge from node 4 ('GeneF', 'genes') to node 5 ('MetaboliteY', 'metabolites'):\n",
      "  Type: inhibition\n",
      "  Weight: 0.7\n",
      "  Confidence Score: 0.8\n",
      "Edge from node 5 ('MetaboliteY', 'metabolites') to node 8 ('ProteinZ', 'proteins'):\n",
      "  Type: binding\n",
      "  Weight: 0.3\n",
      "  Confidence Score: 0.6\n",
      "Edge from node 5 ('MetaboliteY', 'metabolites') to node 7 ('ProteinW', 'proteins'):\n",
      "  Type: binding\n",
      "  Weight: 0.3\n",
      "  Confidence Score: 0.6\n",
      "Edge from node 7 ('ProteinW', 'proteins') to node 6 ('MetaboliteZ', 'metabolites'):\n",
      "  Type: conversion\n",
      "  Weight: 1.0\n",
      "  Confidence Score: 0.99\n",
      "Edge from node 9 ('GeneC', 'genes') to node 10 ('GeneD', 'genes'):\n",
      "  Type: binding\n",
      "  Weight: 0.4\n",
      "  Confidence Score: 0.7\n",
      "Edge from node 10 ('GeneD', 'genes') to node 8 ('ProteinZ', 'proteins'):\n",
      "  Type: modulation\n",
      "  Weight: 0.75\n",
      "  Confidence Score: 0.8\n",
      "Edge from node 11 ('GeneE', 'genes') to node 8 ('ProteinZ', 'proteins'):\n",
      "  Type: modulation\n",
      "  Weight: 0.75\n",
      "  Confidence Score: 0.8\n",
      "Edge from node 12 ('GeneG', 'genes') to node 13 ('ProteinB', 'proteins'):\n",
      "  Type: activation\n",
      "  Weight: 0.8\n",
      "  Confidence Score: 0.9\n",
      "Edge from node 14 ('ProteinA', 'proteins') to node 15 ('MetaboliteA', 'metabolites'):\n",
      "  Type: transport\n",
      "  Weight: 0.65\n",
      "  Confidence Score: 0.85\n",
      "Edge from node 14 ('ProteinA', 'proteins') to node 16 ('MetaboliteB', 'metabolites'):\n",
      "  Type: transport\n",
      "  Weight: 0.65\n",
      "  Confidence Score: 0.85\n"
     ]
    }
   ],
   "source": [
    "# Iterate over all edges and print their properties for verification\n",
    "for edge in network.graph.edges():\n",
    "    source = network.graph.vertex_index[edge.source()]\n",
    "    target = network.graph.vertex_index[edge.target()]\n",
    "    source_id = list(network.graph.vp['node_id'])[source]\n",
    "    target_id = list(network.graph.vp['node_id'])[target]\n",
    "    source_layer = list(network.graph.vp['layer'])[source]\n",
    "    target_layer = list(network.graph.vp['layer'])[target]\n",
    "    print(f\"Edge from node {source} {source_id, source_layer} to node {target} {target_id, target_layer}:\")\n",
    "    print(f\"  Type: {network.graph.edge_properties['edge_type'][edge]}\")\n",
    "    print(f\"  Weight: {network.graph.edge_properties['edge_weight'][edge]}\")\n",
    "    print(f\"  Confidence Score: {network.graph.edge_properties['confidence_score'][edge]}\")"
   ]
  },
  {
   "cell_type": "code",
   "execution_count": 53,
   "metadata": {},
   "outputs": [
    {
     "data": {
      "image/png": "[encoded data removed]",
      "text/plain": [
       "<IPython.core.display.Image object>"
      ]
     },
     "metadata": {
      "image/png": {
       "height": 501,
       "width": 800
      }
     },
     "output_type": "display_data"
    },
    {
     "data": {
      "text/plain": [
       "<Figure size 1200x1200 with 0 Axes>"
      ]
     },
     "metadata": {},
     "output_type": "display_data"
    }
   ],
   "source": [
    "import graph_tool.all as gt\n",
    "import matplotlib.pyplot as plt\n",
    "\n",
    "# Create a color map for layers\n",
    "layer_colors = {\n",
    "    'genes': (1, 0.5, 0.5, 1),        # light red\n",
    "    'proteins': (0.5, 0.5, 1, 1),     # light blue\n",
    "    'metabolites': (0.5, 1, 0.5, 1)   # light green\n",
    "}\n",
    "\n",
    "# Create property maps for colors, sizes, and labels\n",
    "vertex_color = network.graph.new_vertex_property(\"vector<double>\")\n",
    "vertex_size = network.graph.new_vertex_property(\"double\")\n",
    "edge_text = network.graph.new_edge_property(\"string\")\n",
    "edge_width = network.graph.new_edge_property(\"double\")\n",
    "\n",
    "# Assign colors and sizes based on layer and edge properties\n",
    "for v in network.graph.vertices():\n",
    "    layer = network.graph.vp['layer'][v]  # assuming nodes have 'layer' property\n",
    "    vertex_color[v] = layer_colors.get(layer, (0.7, 0.7, 0.7, 1))  # default grey if layer not found\n",
    "    vertex_size[v] = 20  # Set a default size; adjust as needed\n",
    "\n",
    "for e in network.graph.edges():\n",
    "    edge_type = network.graph.ep['edge_type'][e]\n",
    "    edge_weight = network.graph.ep['edge_weight'][e]\n",
    "    edge_text[e] = edge_type  # Use edge_type as label\n",
    "    edge_width[e] = edge_weight * 2  # Scale edge width by weight\n",
    "\n",
    "# Layout the graph\n",
    "pos = gt.sfdp_layout(network.graph)\n",
    "\n",
    "# Draw the graph\n",
    "plt.figure(figsize=(12, 12))\n",
    "gt.graph_draw(\n",
    "    network.graph,\n",
    "    pos=pos,\n",
    "    vertex_fill_color=vertex_color,\n",
    "    vertex_size=vertex_size,\n",
    "    edge_pen_width=edge_width,\n",
    "    edge_text=edge_text,\n",
    "    output_size=(800, 800)#,\n",
    "    #output=\"network_plot.png\"\n",
    ")\n",
    "plt.show()"
   ]
  },
  {
   "cell_type": "markdown",
   "metadata": {},
   "source": [
    "More sophisticated multi-layer visualisations"
   ]
  },
  {
   "cell_type": "code",
   "execution_count": 56,
   "metadata": {},
   "outputs": [],
   "source": [
    "import pandas as pd\n",
    "import networkx as nx\n",
    "from pyvis.network import Network\n",
    "\n",
    "# Initialize NetworkX graph to build with PyVis\n",
    "G = nx.MultiDiGraph()  # Directed multigraph to allow multiple edges\n",
    "\n",
    "# Layer-specific node colors\n",
    "layer_colors = {\n",
    "    'genes': 'red',\n",
    "    'proteins': 'blue',\n",
    "    'metabolites': 'green'\n",
    "}\n",
    "\n",
    "# Add nodes and edges from DataFrame to NetworkX graph\n",
    "for _, row in df_edges.iterrows():\n",
    "    # Split multi-ID nodes\n",
    "    from_nodes = row['from_node'].split('|')\n",
    "    to_nodes = row['to_node'].split('|')\n",
    "    from_layer = row['from_layer']\n",
    "    to_layer = row['to_layer']\n",
    "    \n",
    "    # Add nodes with layer-based coloring\n",
    "    for from_node in from_nodes:\n",
    "        G.add_node(from_node, layer=from_layer, color=layer_colors.get(from_layer, 'grey'))\n",
    "    for to_node in to_nodes:\n",
    "        G.add_node(to_node, layer=to_layer, color=layer_colors.get(to_layer, 'grey'))\n",
    "        \n",
    "    # Add edges with properties\n",
    "    for from_node in from_nodes:\n",
    "        for to_node in to_nodes:\n",
    "            G.add_edge(\n",
    "                from_node, to_node,\n",
    "                edge_type=row['edge_type'],\n",
    "                edge_weight=row['edge_weight'],\n",
    "                confidence_score=row['confidence_score']\n",
    "            )\n",
    "\n",
    "# Initialize PyVis network\n",
    "net = Network(height='800px', width='100%', directed=True)\n",
    "\n",
    "# Populate PyVis network with NetworkX graph data\n",
    "net.from_nx(G)\n",
    "\n",
    "# Customize appearance in PyVis\n",
    "for node in net.nodes:\n",
    "    layer = G.nodes[node['id']].get('layer')\n",
    "    node['title'] = f\"Layer: {layer}\"\n",
    "    node['color'] = layer_colors.get(layer, 'grey')\n",
    "    node['size'] = 15  # Size of each node\n",
    "\n",
    "for edge in net.edges:\n",
    "    edge['title'] = f\"Type: {edge['edge_type']}<br>Weight: {edge['edge_weight']}<br>Confidence: {edge['confidence_score']}\"\n",
    "    edge['width'] = edge['edge_weight'] * 2  # Scale edge width by weight\n",
    "    edge['color'] = 'grey' if edge['confidence_score'] < 0.8 else 'black'\n",
    "\n",
    "# Save and display the network\n",
    "net.show('multilayer_network.html')"
   ]
  },
  {
   "cell_type": "code",
   "execution_count": 59,
   "metadata": {},
   "outputs": [
    {
     "data": {
      "application/vnd.plotly.v1+json": {
       "config": {
        "plotlyServerURL": "https://plot.ly"
       },
       "data": [
        {
         "hoverinfo": "none",
         "line": {
          "color": "grey",
          "width": 1
         },
         "mode": "lines",
         "type": "scatter3d",
         "x": [
          0,
          1,
          null,
          1,
          4,
          null,
          2,
          3,
          null,
          5,
          6,
          null,
          7,
          8,
          null,
          8,
          9,
          null,
          10,
          11,
          null,
          12,
          13,
          null
         ],
         "y": [
          0,
          0,
          null,
          0,
          0,
          null,
          0,
          0,
          null,
          0,
          0,
          null,
          0,
          0,
          null,
          0,
          0,
          null,
          0,
          0,
          null,
          0,
          0,
          null
         ],
         "z": [
          0,
          1,
          null,
          1,
          2,
          null,
          0,
          1,
          null,
          2,
          1,
          null,
          0,
          0,
          null,
          0,
          1,
          null,
          0,
          1,
          null,
          1,
          2,
          null
         ]
        },
        {
         "marker": {
          "color": [
           "red",
           "blue",
           "red",
           "blue",
           "green",
           "green",
           "blue",
           "red",
           "red",
           "blue",
           "red",
           "blue",
           "blue",
           "green"
          ],
          "size": 8
         },
         "mode": "markers+text",
         "text": [
          "GeneA",
          "ProteinX",
          "GeneB",
          "ProteinY",
          "MetaboliteZ",
          "MetaboliteY",
          "ProteinW",
          "GeneC",
          "GeneD",
          "ProteinZ",
          "GeneG",
          "ProteinB",
          "ProteinA",
          "MetaboliteA"
         ],
         "textposition": "top center",
         "type": "scatter3d",
         "x": [
          0,
          1,
          2,
          3,
          4,
          5,
          6,
          7,
          8,
          9,
          10,
          11,
          12,
          13
         ],
         "y": [
          0,
          0,
          0,
          0,
          0,
          0,
          0,
          0,
          0,
          0,
          0,
          0,
          0,
          0
         ],
         "z": [
          0,
          1,
          0,
          1,
          2,
          2,
          1,
          0,
          0,
          1,
          0,
          1,
          1,
          2
         ]
        },
        {
         "color": "red",
         "hoverinfo": "none",
         "opacity": 0.1,
         "type": "mesh3d",
         "x": [
          -1,
          14,
          14,
          -1
         ],
         "y": [
          -1,
          -1,
          1,
          1
         ],
         "z": [
          0,
          0,
          0,
          0
         ]
        },
        {
         "color": "blue",
         "hoverinfo": "none",
         "opacity": 0.1,
         "type": "mesh3d",
         "x": [
          -1,
          14,
          14,
          -1
         ],
         "y": [
          -1,
          -1,
          1,
          1
         ],
         "z": [
          1,
          1,
          1,
          1
         ]
        },
        {
         "color": "green",
         "hoverinfo": "none",
         "opacity": 0.1,
         "type": "mesh3d",
         "x": [
          -1,
          14,
          14,
          -1
         ],
         "y": [
          -1,
          -1,
          1,
          1
         ],
         "z": [
          2,
          2,
          2,
          2
         ]
        }
       ],
       "layout": {
        "scene": {
         "xaxis": {
          "showbackground": false
         },
         "yaxis": {
          "showbackground": false
         },
         "zaxis": {
          "showbackground": false
         }
        },
        "showlegend": false,
        "template": {
         "data": {
          "bar": [
           {
            "error_x": {
             "color": "#2a3f5f"
            },
            "error_y": {
             "color": "#2a3f5f"
            },
            "marker": {
             "line": {
              "color": "#E5ECF6",
              "width": 0.5
             },
             "pattern": {
              "fillmode": "overlay",
              "size": 10,
              "solidity": 0.2
             }
            },
            "type": "bar"
           }
          ],
          "barpolar": [
           {
            "marker": {
             "line": {
              "color": "#E5ECF6",
              "width": 0.5
             },
             "pattern": {
              "fillmode": "overlay",
              "size": 10,
              "solidity": 0.2
             }
            },
            "type": "barpolar"
           }
          ],
          "carpet": [
           {
            "aaxis": {
             "endlinecolor": "#2a3f5f",
             "gridcolor": "white",
             "linecolor": "white",
             "minorgridcolor": "white",
             "startlinecolor": "#2a3f5f"
            },
            "baxis": {
             "endlinecolor": "#2a3f5f",
             "gridcolor": "white",
             "linecolor": "white",
             "minorgridcolor": "white",
             "startlinecolor": "#2a3f5f"
            },
            "type": "carpet"
           }
          ],
          "choropleth": [
           {
            "colorbar": {
             "outlinewidth": 0,
             "ticks": ""
            },
            "type": "choropleth"
           }
          ],
          "contour": [
           {
            "colorbar": {
             "outlinewidth": 0,
             "ticks": ""
            },
            "colorscale": [
             [
              0,
              "#0d0887"
             ],
             [
              0.1111111111111111,
              "#46039f"
             ],
             [
              0.2222222222222222,
              "#7201a8"
             ],
             [
              0.3333333333333333,
              "#9c179e"
             ],
             [
              0.4444444444444444,
              "#bd3786"
             ],
             [
              0.5555555555555556,
              "#d8576b"
             ],
             [
              0.6666666666666666,
              "#ed7953"
             ],
             [
              0.7777777777777778,
              "#fb9f3a"
             ],
             [
              0.8888888888888888,
              "#fdca26"
             ],
             [
              1,
              "#f0f921"
             ]
            ],
            "type": "contour"
           }
          ],
          "contourcarpet": [
           {
            "colorbar": {
             "outlinewidth": 0,
             "ticks": ""
            },
            "type": "contourcarpet"
           }
          ],
          "heatmap": [
           {
            "colorbar": {
             "outlinewidth": 0,
             "ticks": ""
            },
            "colorscale": [
             [
              0,
              "#0d0887"
             ],
             [
              0.1111111111111111,
              "#46039f"
             ],
             [
              0.2222222222222222,
              "#7201a8"
             ],
             [
              0.3333333333333333,
              "#9c179e"
             ],
             [
              0.4444444444444444,
              "#bd3786"
             ],
             [
              0.5555555555555556,
              "#d8576b"
             ],
             [
              0.6666666666666666,
              "#ed7953"
             ],
             [
              0.7777777777777778,
              "#fb9f3a"
             ],
             [
              0.8888888888888888,
              "#fdca26"
             ],
             [
              1,
              "#f0f921"
             ]
            ],
            "type": "heatmap"
           }
          ],
          "heatmapgl": [
           {
            "colorbar": {
             "outlinewidth": 0,
             "ticks": ""
            },
            "colorscale": [
             [
              0,
              "#0d0887"
             ],
             [
              0.1111111111111111,
              "#46039f"
             ],
             [
              0.2222222222222222,
              "#7201a8"
             ],
             [
              0.3333333333333333,
              "#9c179e"
             ],
             [
              0.4444444444444444,
              "#bd3786"
             ],
             [
              0.5555555555555556,
              "#d8576b"
             ],
             [
              0.6666666666666666,
              "#ed7953"
             ],
             [
              0.7777777777777778,
              "#fb9f3a"
             ],
             [
              0.8888888888888888,
              "#fdca26"
             ],
             [
              1,
              "#f0f921"
             ]
            ],
            "type": "heatmapgl"
           }
          ],
          "histogram": [
           {
            "marker": {
             "pattern": {
              "fillmode": "overlay",
              "size": 10,
              "solidity": 0.2
             }
            },
            "type": "histogram"
           }
          ],
          "histogram2d": [
           {
            "colorbar": {
             "outlinewidth": 0,
             "ticks": ""
            },
            "colorscale": [
             [
              0,
              "#0d0887"
             ],
             [
              0.1111111111111111,
              "#46039f"
             ],
             [
              0.2222222222222222,
              "#7201a8"
             ],
             [
              0.3333333333333333,
              "#9c179e"
             ],
             [
              0.4444444444444444,
              "#bd3786"
             ],
             [
              0.5555555555555556,
              "#d8576b"
             ],
             [
              0.6666666666666666,
              "#ed7953"
             ],
             [
              0.7777777777777778,
              "#fb9f3a"
             ],
             [
              0.8888888888888888,
              "#fdca26"
             ],
             [
              1,
              "#f0f921"
             ]
            ],
            "type": "histogram2d"
           }
          ],
          "histogram2dcontour": [
           {
            "colorbar": {
             "outlinewidth": 0,
             "ticks": ""
            },
            "colorscale": [
             [
              0,
              "#0d0887"
             ],
             [
              0.1111111111111111,
              "#46039f"
             ],
             [
              0.2222222222222222,
              "#7201a8"
             ],
             [
              0.3333333333333333,
              "#9c179e"
             ],
             [
              0.4444444444444444,
              "#bd3786"
             ],
             [
              0.5555555555555556,
              "#d8576b"
             ],
             [
              0.6666666666666666,
              "#ed7953"
             ],
             [
              0.7777777777777778,
              "#fb9f3a"
             ],
             [
              0.8888888888888888,
              "#fdca26"
             ],
             [
              1,
              "#f0f921"
             ]
            ],
            "type": "histogram2dcontour"
           }
          ],
          "mesh3d": [
           {
            "colorbar": {
             "outlinewidth": 0,
             "ticks": ""
            },
            "type": "mesh3d"
           }
          ],
          "parcoords": [
           {
            "line": {
             "colorbar": {
              "outlinewidth": 0,
              "ticks": ""
             }
            },
            "type": "parcoords"
           }
          ],
          "pie": [
           {
            "automargin": true,
            "type": "pie"
           }
          ],
          "scatter": [
           {
            "fillpattern": {
             "fillmode": "overlay",
             "size": 10,
             "solidity": 0.2
            },
            "type": "scatter"
           }
          ],
          "scatter3d": [
           {
            "line": {
             "colorbar": {
              "outlinewidth": 0,
              "ticks": ""
             }
            },
            "marker": {
             "colorbar": {
              "outlinewidth": 0,
              "ticks": ""
             }
            },
            "type": "scatter3d"
           }
          ],
          "scattercarpet": [
           {
            "marker": {
             "colorbar": {
              "outlinewidth": 0,
              "ticks": ""
             }
            },
            "type": "scattercarpet"
           }
          ],
          "scattergeo": [
           {
            "marker": {
             "colorbar": {
              "outlinewidth": 0,
              "ticks": ""
             }
            },
            "type": "scattergeo"
           }
          ],
          "scattergl": [
           {
            "marker": {
             "colorbar": {
              "outlinewidth": 0,
              "ticks": ""
             }
            },
            "type": "scattergl"
           }
          ],
          "scattermapbox": [
           {
            "marker": {
             "colorbar": {
              "outlinewidth": 0,
              "ticks": ""
             }
            },
            "type": "scattermapbox"
           }
          ],
          "scatterpolar": [
           {
            "marker": {
             "colorbar": {
              "outlinewidth": 0,
              "ticks": ""
             }
            },
            "type": "scatterpolar"
           }
          ],
          "scatterpolargl": [
           {
            "marker": {
             "colorbar": {
              "outlinewidth": 0,
              "ticks": ""
             }
            },
            "type": "scatterpolargl"
           }
          ],
          "scatterternary": [
           {
            "marker": {
             "colorbar": {
              "outlinewidth": 0,
              "ticks": ""
             }
            },
            "type": "scatterternary"
           }
          ],
          "surface": [
           {
            "colorbar": {
             "outlinewidth": 0,
             "ticks": ""
            },
            "colorscale": [
             [
              0,
              "#0d0887"
             ],
             [
              0.1111111111111111,
              "#46039f"
             ],
             [
              0.2222222222222222,
              "#7201a8"
             ],
             [
              0.3333333333333333,
              "#9c179e"
             ],
             [
              0.4444444444444444,
              "#bd3786"
             ],
             [
              0.5555555555555556,
              "#d8576b"
             ],
             [
              0.6666666666666666,
              "#ed7953"
             ],
             [
              0.7777777777777778,
              "#fb9f3a"
             ],
             [
              0.8888888888888888,
              "#fdca26"
             ],
             [
              1,
              "#f0f921"
             ]
            ],
            "type": "surface"
           }
          ],
          "table": [
           {
            "cells": {
             "fill": {
              "color": "#EBF0F8"
             },
             "line": {
              "color": "white"
             }
            },
            "header": {
             "fill": {
              "color": "#C8D4E3"
             },
             "line": {
              "color": "white"
             }
            },
            "type": "table"
           }
          ]
         },
         "layout": {
          "annotationdefaults": {
           "arrowcolor": "#2a3f5f",
           "arrowhead": 0,
           "arrowwidth": 1
          },
          "autotypenumbers": "strict",
          "coloraxis": {
           "colorbar": {
            "outlinewidth": 0,
            "ticks": ""
           }
          },
          "colorscale": {
           "diverging": [
            [
             0,
             "#8e0152"
            ],
            [
             0.1,
             "#c51b7d"
            ],
            [
             0.2,
             "#de77ae"
            ],
            [
             0.3,
             "#f1b6da"
            ],
            [
             0.4,
             "#fde0ef"
            ],
            [
             0.5,
             "#f7f7f7"
            ],
            [
             0.6,
             "#e6f5d0"
            ],
            [
             0.7,
             "#b8e186"
            ],
            [
             0.8,
             "#7fbc41"
            ],
            [
             0.9,
             "#4d9221"
            ],
            [
             1,
             "#276419"
            ]
           ],
           "sequential": [
            [
             0,
             "#0d0887"
            ],
            [
             0.1111111111111111,
             "#46039f"
            ],
            [
             0.2222222222222222,
             "#7201a8"
            ],
            [
             0.3333333333333333,
             "#9c179e"
            ],
            [
             0.4444444444444444,
             "#bd3786"
            ],
            [
             0.5555555555555556,
             "#d8576b"
            ],
            [
             0.6666666666666666,
             "#ed7953"
            ],
            [
             0.7777777777777778,
             "#fb9f3a"
            ],
            [
             0.8888888888888888,
             "#fdca26"
            ],
            [
             1,
             "#f0f921"
            ]
           ],
           "sequentialminus": [
            [
             0,
             "#0d0887"
            ],
            [
             0.1111111111111111,
             "#46039f"
            ],
            [
             0.2222222222222222,
             "#7201a8"
            ],
            [
             0.3333333333333333,
             "#9c179e"
            ],
            [
             0.4444444444444444,
             "#bd3786"
            ],
            [
             0.5555555555555556,
             "#d8576b"
            ],
            [
             0.6666666666666666,
             "#ed7953"
            ],
            [
             0.7777777777777778,
             "#fb9f3a"
            ],
            [
             0.8888888888888888,
             "#fdca26"
            ],
            [
             1,
             "#f0f921"
            ]
           ]
          },
          "colorway": [
           "#636efa",
           "#EF553B",
           "#00cc96",
           "#ab63fa",
           "#FFA15A",
           "#19d3f3",
           "#FF6692",
           "#B6E880",
           "#FF97FF",
           "#FECB52"
          ],
          "font": {
           "color": "#2a3f5f"
          },
          "geo": {
           "bgcolor": "white",
           "lakecolor": "white",
           "landcolor": "#E5ECF6",
           "showlakes": true,
           "showland": true,
           "subunitcolor": "white"
          },
          "hoverlabel": {
           "align": "left"
          },
          "hovermode": "closest",
          "mapbox": {
           "style": "light"
          },
          "paper_bgcolor": "white",
          "plot_bgcolor": "#E5ECF6",
          "polar": {
           "angularaxis": {
            "gridcolor": "white",
            "linecolor": "white",
            "ticks": ""
           },
           "bgcolor": "#E5ECF6",
           "radialaxis": {
            "gridcolor": "white",
            "linecolor": "white",
            "ticks": ""
           }
          },
          "scene": {
           "xaxis": {
            "backgroundcolor": "#E5ECF6",
            "gridcolor": "white",
            "gridwidth": 2,
            "linecolor": "white",
            "showbackground": true,
            "ticks": "",
            "zerolinecolor": "white"
           },
           "yaxis": {
            "backgroundcolor": "#E5ECF6",
            "gridcolor": "white",
            "gridwidth": 2,
            "linecolor": "white",
            "showbackground": true,
            "ticks": "",
            "zerolinecolor": "white"
           },
           "zaxis": {
            "backgroundcolor": "#E5ECF6",
            "gridcolor": "white",
            "gridwidth": 2,
            "linecolor": "white",
            "showbackground": true,
            "ticks": "",
            "zerolinecolor": "white"
           }
          },
          "shapedefaults": {
           "line": {
            "color": "#2a3f5f"
           }
          },
          "ternary": {
           "aaxis": {
            "gridcolor": "white",
            "linecolor": "white",
            "ticks": ""
           },
           "baxis": {
            "gridcolor": "white",
            "linecolor": "white",
            "ticks": ""
           },
           "bgcolor": "#E5ECF6",
           "caxis": {
            "gridcolor": "white",
            "linecolor": "white",
            "ticks": ""
           }
          },
          "title": {
           "x": 0.05
          },
          "xaxis": {
           "automargin": true,
           "gridcolor": "white",
           "linecolor": "white",
           "ticks": "",
           "title": {
            "standoff": 15
           },
           "zerolinecolor": "white",
           "zerolinewidth": 2
          },
          "yaxis": {
           "automargin": true,
           "gridcolor": "white",
           "linecolor": "white",
           "ticks": "",
           "title": {
            "standoff": 15
           },
           "zerolinecolor": "white",
           "zerolinewidth": 2
          }
         }
        },
        "title": {
         "text": "Multilayer Network in 3D with Layers"
        }
       }
      }
     },
     "metadata": {},
     "output_type": "display_data"
    }
   ],
   "source": [
    "import networkx as nx\n",
    "import plotly.graph_objects as go\n",
    "import pandas as pd\n",
    "\n",
    "# Sample data similar to your use case\n",
    "df_edges = pd.DataFrame({\n",
    "    'from_node': ['GeneA', 'GeneB', 'ProteinX', 'MetaboliteY', 'GeneC', 'GeneD', 'GeneG', 'ProteinA'],\n",
    "    'to_node': ['ProteinX', 'ProteinY', 'MetaboliteZ', 'ProteinW', 'GeneD', 'ProteinZ', 'ProteinB', 'MetaboliteA'],\n",
    "    'from_layer': ['Genomics', 'Genomics', 'Proteomics', 'Metabolomics', 'Genomics', 'Genomics', 'Genomics', 'Proteomics'],\n",
    "    'to_layer': ['Proteomics', 'Proteomics', 'Metabolomics', 'Proteomics', 'Genomics', 'Proteomics', 'Proteomics', 'Metabolomics'],\n",
    "    'edge_type': ['activation', 'inhibition', 'conversion', 'binding', 'binding', 'modulation', 'activation', 'transport'],\n",
    "    'edge_weight': [0.9, 0.7, 1.0, 0.3, 0.4, 0.75, 0.8, 0.65]\n",
    "})\n",
    "\n",
    "# Define z-layer for each layer\n",
    "layer_positions = {'Genomics': 0, 'Proteomics': 1, 'Metabolomics': 2}\n",
    "layer_colors = {'Genomics': 'red', 'Proteomics': 'blue', 'Metabolomics': 'green'}\n",
    "\n",
    "# Create a NetworkX graph and add nodes and edges\n",
    "G = nx.DiGraph()\n",
    "for _, row in df_edges.iterrows():\n",
    "    from_node = row['from_node']\n",
    "    to_node = row['to_node']\n",
    "    from_layer = row['from_layer']\n",
    "    to_layer = row['to_layer']\n",
    "    \n",
    "    G.add_node(from_node, layer=from_layer, color=layer_colors[from_layer], pos=(0, 0, layer_positions[from_layer]))\n",
    "    G.add_node(to_node, layer=to_layer, color=layer_colors[to_layer], pos=(0, 0, layer_positions[to_layer]))\n",
    "    \n",
    "    G.add_edge(from_node, to_node, weight=row['edge_weight'], type=row['edge_type'])\n",
    "\n",
    "# Define 3D positions for nodes\n",
    "node_positions = {node: (i, 0, layer_positions[G.nodes[node]['layer']]) for i, node in enumerate(G.nodes)}\n",
    "\n",
    "# Prepare Plotly data for edges\n",
    "edge_x = []\n",
    "edge_y = []\n",
    "edge_z = []\n",
    "for edge in G.edges():\n",
    "    x0, y0, z0 = node_positions[edge[0]]\n",
    "    x1, y1, z1 = node_positions[edge[1]]\n",
    "    edge_x += [x0, x1, None]\n",
    "    edge_y += [y0, y1, None]\n",
    "    edge_z += [z0, z1, None]\n",
    "\n",
    "# Prepare Plotly data for nodes\n",
    "node_x = [node_positions[node][0] for node in G.nodes]\n",
    "node_y = [node_positions[node][1] for node in G.nodes]\n",
    "node_z = [node_positions[node][2] for node in G.nodes]\n",
    "node_colors = [G.nodes[node]['color'] for node in G.nodes]\n",
    "\n",
    "# Plot with Plotly\n",
    "fig = go.Figure()\n",
    "\n",
    "# Add edges\n",
    "fig.add_trace(go.Scatter3d(x=edge_x, y=edge_y, z=edge_z,\n",
    "                           mode='lines',\n",
    "                           line=dict(color='grey', width=1),\n",
    "                           hoverinfo='none'))\n",
    "\n",
    "# Add nodes\n",
    "fig.add_trace(go.Scatter3d(x=node_x, y=node_y, z=node_z,\n",
    "                           mode='markers+text',\n",
    "                           marker=dict(size=8, color=node_colors),\n",
    "                           text=list(G.nodes),\n",
    "                           textposition=\"top center\"))\n",
    "\n",
    "# Add layer planes using Mesh3d for visual separation\n",
    "for layer, z in layer_positions.items():\n",
    "    fig.add_trace(go.Mesh3d(\n",
    "        x=[-1, len(G.nodes), len(G.nodes), -1],  # X-coordinates of the vertices\n",
    "        y=[-1, -1, 1, 1],                       # Y-coordinates of the vertices\n",
    "        z=[z, z, z, z],                         # Z-coordinate is constant for each layer\n",
    "        color=layer_colors[layer],\n",
    "        opacity=0.1,\n",
    "        hoverinfo='none'\n",
    "    ))\n",
    "\n",
    "# Set plot settings\n",
    "fig.update_layout(scene=dict(\n",
    "                    xaxis=dict(showbackground=False),\n",
    "                    yaxis=dict(showbackground=False),\n",
    "                    zaxis=dict(showbackground=False),\n",
    "                    ),\n",
    "                  title=\"Multilayer Network in 3D with Layers\",\n",
    "                  showlegend=False)\n",
    "\n",
    "fig.show()"
   ]
  },
  {
   "cell_type": "code",
   "execution_count": 61,
   "metadata": {},
   "outputs": [
    {
     "data": {
      "application/vnd.plotly.v1+json": {
       "config": {
        "plotlyServerURL": "https://plot.ly"
       },
       "data": [
        {
         "hoverinfo": "none",
         "line": {
          "color": "grey",
          "width": 1
         },
         "mode": "lines",
         "type": "scatter3d",
         "x": [
          0,
          1,
          null,
          1,
          4,
          null,
          2,
          3,
          null,
          5,
          6,
          null,
          7,
          8,
          null,
          8,
          9,
          null,
          10,
          11,
          null,
          12,
          13,
          null
         ],
         "y": [
          0,
          0,
          null,
          0,
          0,
          null,
          0,
          0,
          null,
          0,
          0,
          null,
          0,
          0,
          null,
          0,
          0,
          null,
          0,
          0,
          null,
          0,
          0,
          null
         ],
         "z": [
          0,
          1,
          null,
          1,
          2,
          null,
          0,
          1,
          null,
          2,
          1,
          null,
          0,
          0,
          null,
          0,
          1,
          null,
          0,
          1,
          null,
          1,
          2,
          null
         ]
        },
        {
         "marker": {
          "color": [
           "red",
           "blue",
           "red",
           "blue",
           "green",
           "green",
           "blue",
           "red",
           "red",
           "blue",
           "red",
           "blue",
           "blue",
           "green"
          ],
          "size": 8
         },
         "mode": "markers+text",
         "text": [
          "GeneA",
          "ProteinX",
          "GeneB",
          "ProteinY",
          "MetaboliteZ",
          "MetaboliteY",
          "ProteinW",
          "GeneC",
          "GeneD",
          "ProteinZ",
          "GeneG",
          "ProteinB",
          "ProteinA",
          "MetaboliteA"
         ],
         "textposition": "top center",
         "type": "scatter3d",
         "x": [
          0,
          1,
          2,
          3,
          4,
          5,
          6,
          7,
          8,
          9,
          10,
          11,
          12,
          13
         ],
         "y": [
          0,
          0,
          0,
          0,
          0,
          0,
          0,
          0,
          0,
          0,
          0,
          0,
          0,
          0
         ],
         "z": [
          0,
          1,
          0,
          1,
          2,
          2,
          1,
          0,
          0,
          1,
          0,
          1,
          1,
          2
         ]
        },
        {
         "color": "red",
         "hoverinfo": "none",
         "opacity": 0.1,
         "type": "mesh3d",
         "x": [
          -1,
          14,
          14,
          -1
         ],
         "y": [
          -1,
          -1,
          1,
          1
         ],
         "z": [
          0,
          0,
          0,
          0
         ]
        },
        {
         "color": "blue",
         "hoverinfo": "none",
         "opacity": 0.1,
         "type": "mesh3d",
         "x": [
          -1,
          14,
          14,
          -1
         ],
         "y": [
          -1,
          -1,
          1,
          1
         ],
         "z": [
          1,
          1,
          1,
          1
         ]
        },
        {
         "color": "green",
         "hoverinfo": "none",
         "opacity": 0.1,
         "type": "mesh3d",
         "x": [
          -1,
          14,
          14,
          -1
         ],
         "y": [
          -1,
          -1,
          1,
          1
         ],
         "z": [
          2,
          2,
          2,
          2
         ]
        }
       ],
       "layout": {
        "scene": {
         "xaxis": {
          "showbackground": false
         },
         "yaxis": {
          "showbackground": false
         },
         "zaxis": {
          "showbackground": false
         }
        },
        "showlegend": false,
        "template": {
         "data": {
          "bar": [
           {
            "error_x": {
             "color": "#2a3f5f"
            },
            "error_y": {
             "color": "#2a3f5f"
            },
            "marker": {
             "line": {
              "color": "#E5ECF6",
              "width": 0.5
             },
             "pattern": {
              "fillmode": "overlay",
              "size": 10,
              "solidity": 0.2
             }
            },
            "type": "bar"
           }
          ],
          "barpolar": [
           {
            "marker": {
             "line": {
              "color": "#E5ECF6",
              "width": 0.5
             },
             "pattern": {
              "fillmode": "overlay",
              "size": 10,
              "solidity": 0.2
             }
            },
            "type": "barpolar"
           }
          ],
          "carpet": [
           {
            "aaxis": {
             "endlinecolor": "#2a3f5f",
             "gridcolor": "white",
             "linecolor": "white",
             "minorgridcolor": "white",
             "startlinecolor": "#2a3f5f"
            },
            "baxis": {
             "endlinecolor": "#2a3f5f",
             "gridcolor": "white",
             "linecolor": "white",
             "minorgridcolor": "white",
             "startlinecolor": "#2a3f5f"
            },
            "type": "carpet"
           }
          ],
          "choropleth": [
           {
            "colorbar": {
             "outlinewidth": 0,
             "ticks": ""
            },
            "type": "choropleth"
           }
          ],
          "contour": [
           {
            "colorbar": {
             "outlinewidth": 0,
             "ticks": ""
            },
            "colorscale": [
             [
              0,
              "#0d0887"
             ],
             [
              0.1111111111111111,
              "#46039f"
             ],
             [
              0.2222222222222222,
              "#7201a8"
             ],
             [
              0.3333333333333333,
              "#9c179e"
             ],
             [
              0.4444444444444444,
              "#bd3786"
             ],
             [
              0.5555555555555556,
              "#d8576b"
             ],
             [
              0.6666666666666666,
              "#ed7953"
             ],
             [
              0.7777777777777778,
              "#fb9f3a"
             ],
             [
              0.8888888888888888,
              "#fdca26"
             ],
             [
              1,
              "#f0f921"
             ]
            ],
            "type": "contour"
           }
          ],
          "contourcarpet": [
           {
            "colorbar": {
             "outlinewidth": 0,
             "ticks": ""
            },
            "type": "contourcarpet"
           }
          ],
          "heatmap": [
           {
            "colorbar": {
             "outlinewidth": 0,
             "ticks": ""
            },
            "colorscale": [
             [
              0,
              "#0d0887"
             ],
             [
              0.1111111111111111,
              "#46039f"
             ],
             [
              0.2222222222222222,
              "#7201a8"
             ],
             [
              0.3333333333333333,
              "#9c179e"
             ],
             [
              0.4444444444444444,
              "#bd3786"
             ],
             [
              0.5555555555555556,
              "#d8576b"
             ],
             [
              0.6666666666666666,
              "#ed7953"
             ],
             [
              0.7777777777777778,
              "#fb9f3a"
             ],
             [
              0.8888888888888888,
              "#fdca26"
             ],
             [
              1,
              "#f0f921"
             ]
            ],
            "type": "heatmap"
           }
          ],
          "heatmapgl": [
           {
            "colorbar": {
             "outlinewidth": 0,
             "ticks": ""
            },
            "colorscale": [
             [
              0,
              "#0d0887"
             ],
             [
              0.1111111111111111,
              "#46039f"
             ],
             [
              0.2222222222222222,
              "#7201a8"
             ],
             [
              0.3333333333333333,
              "#9c179e"
             ],
             [
              0.4444444444444444,
              "#bd3786"
             ],
             [
              0.5555555555555556,
              "#d8576b"
             ],
             [
              0.6666666666666666,
              "#ed7953"
             ],
             [
              0.7777777777777778,
              "#fb9f3a"
             ],
             [
              0.8888888888888888,
              "#fdca26"
             ],
             [
              1,
              "#f0f921"
             ]
            ],
            "type": "heatmapgl"
           }
          ],
          "histogram": [
           {
            "marker": {
             "pattern": {
              "fillmode": "overlay",
              "size": 10,
              "solidity": 0.2
             }
            },
            "type": "histogram"
           }
          ],
          "histogram2d": [
           {
            "colorbar": {
             "outlinewidth": 0,
             "ticks": ""
            },
            "colorscale": [
             [
              0,
              "#0d0887"
             ],
             [
              0.1111111111111111,
              "#46039f"
             ],
             [
              0.2222222222222222,
              "#7201a8"
             ],
             [
              0.3333333333333333,
              "#9c179e"
             ],
             [
              0.4444444444444444,
              "#bd3786"
             ],
             [
              0.5555555555555556,
              "#d8576b"
             ],
             [
              0.6666666666666666,
              "#ed7953"
             ],
             [
              0.7777777777777778,
              "#fb9f3a"
             ],
             [
              0.8888888888888888,
              "#fdca26"
             ],
             [
              1,
              "#f0f921"
             ]
            ],
            "type": "histogram2d"
           }
          ],
          "histogram2dcontour": [
           {
            "colorbar": {
             "outlinewidth": 0,
             "ticks": ""
            },
            "colorscale": [
             [
              0,
              "#0d0887"
             ],
             [
              0.1111111111111111,
              "#46039f"
             ],
             [
              0.2222222222222222,
              "#7201a8"
             ],
             [
              0.3333333333333333,
              "#9c179e"
             ],
             [
              0.4444444444444444,
              "#bd3786"
             ],
             [
              0.5555555555555556,
              "#d8576b"
             ],
             [
              0.6666666666666666,
              "#ed7953"
             ],
             [
              0.7777777777777778,
              "#fb9f3a"
             ],
             [
              0.8888888888888888,
              "#fdca26"
             ],
             [
              1,
              "#f0f921"
             ]
            ],
            "type": "histogram2dcontour"
           }
          ],
          "mesh3d": [
           {
            "colorbar": {
             "outlinewidth": 0,
             "ticks": ""
            },
            "type": "mesh3d"
           }
          ],
          "parcoords": [
           {
            "line": {
             "colorbar": {
              "outlinewidth": 0,
              "ticks": ""
             }
            },
            "type": "parcoords"
           }
          ],
          "pie": [
           {
            "automargin": true,
            "type": "pie"
           }
          ],
          "scatter": [
           {
            "fillpattern": {
             "fillmode": "overlay",
             "size": 10,
             "solidity": 0.2
            },
            "type": "scatter"
           }
          ],
          "scatter3d": [
           {
            "line": {
             "colorbar": {
              "outlinewidth": 0,
              "ticks": ""
             }
            },
            "marker": {
             "colorbar": {
              "outlinewidth": 0,
              "ticks": ""
             }
            },
            "type": "scatter3d"
           }
          ],
          "scattercarpet": [
           {
            "marker": {
             "colorbar": {
              "outlinewidth": 0,
              "ticks": ""
             }
            },
            "type": "scattercarpet"
           }
          ],
          "scattergeo": [
           {
            "marker": {
             "colorbar": {
              "outlinewidth": 0,
              "ticks": ""
             }
            },
            "type": "scattergeo"
           }
          ],
          "scattergl": [
           {
            "marker": {
             "colorbar": {
              "outlinewidth": 0,
              "ticks": ""
             }
            },
            "type": "scattergl"
           }
          ],
          "scattermapbox": [
           {
            "marker": {
             "colorbar": {
              "outlinewidth": 0,
              "ticks": ""
             }
            },
            "type": "scattermapbox"
           }
          ],
          "scatterpolar": [
           {
            "marker": {
             "colorbar": {
              "outlinewidth": 0,
              "ticks": ""
             }
            },
            "type": "scatterpolar"
           }
          ],
          "scatterpolargl": [
           {
            "marker": {
             "colorbar": {
              "outlinewidth": 0,
              "ticks": ""
             }
            },
            "type": "scatterpolargl"
           }
          ],
          "scatterternary": [
           {
            "marker": {
             "colorbar": {
              "outlinewidth": 0,
              "ticks": ""
             }
            },
            "type": "scatterternary"
           }
          ],
          "surface": [
           {
            "colorbar": {
             "outlinewidth": 0,
             "ticks": ""
            },
            "colorscale": [
             [
              0,
              "#0d0887"
             ],
             [
              0.1111111111111111,
              "#46039f"
             ],
             [
              0.2222222222222222,
              "#7201a8"
             ],
             [
              0.3333333333333333,
              "#9c179e"
             ],
             [
              0.4444444444444444,
              "#bd3786"
             ],
             [
              0.5555555555555556,
              "#d8576b"
             ],
             [
              0.6666666666666666,
              "#ed7953"
             ],
             [
              0.7777777777777778,
              "#fb9f3a"
             ],
             [
              0.8888888888888888,
              "#fdca26"
             ],
             [
              1,
              "#f0f921"
             ]
            ],
            "type": "surface"
           }
          ],
          "table": [
           {
            "cells": {
             "fill": {
              "color": "#EBF0F8"
             },
             "line": {
              "color": "white"
             }
            },
            "header": {
             "fill": {
              "color": "#C8D4E3"
             },
             "line": {
              "color": "white"
             }
            },
            "type": "table"
           }
          ]
         },
         "layout": {
          "annotationdefaults": {
           "arrowcolor": "#2a3f5f",
           "arrowhead": 0,
           "arrowwidth": 1
          },
          "autotypenumbers": "strict",
          "coloraxis": {
           "colorbar": {
            "outlinewidth": 0,
            "ticks": ""
           }
          },
          "colorscale": {
           "diverging": [
            [
             0,
             "#8e0152"
            ],
            [
             0.1,
             "#c51b7d"
            ],
            [
             0.2,
             "#de77ae"
            ],
            [
             0.3,
             "#f1b6da"
            ],
            [
             0.4,
             "#fde0ef"
            ],
            [
             0.5,
             "#f7f7f7"
            ],
            [
             0.6,
             "#e6f5d0"
            ],
            [
             0.7,
             "#b8e186"
            ],
            [
             0.8,
             "#7fbc41"
            ],
            [
             0.9,
             "#4d9221"
            ],
            [
             1,
             "#276419"
            ]
           ],
           "sequential": [
            [
             0,
             "#0d0887"
            ],
            [
             0.1111111111111111,
             "#46039f"
            ],
            [
             0.2222222222222222,
             "#7201a8"
            ],
            [
             0.3333333333333333,
             "#9c179e"
            ],
            [
             0.4444444444444444,
             "#bd3786"
            ],
            [
             0.5555555555555556,
             "#d8576b"
            ],
            [
             0.6666666666666666,
             "#ed7953"
            ],
            [
             0.7777777777777778,
             "#fb9f3a"
            ],
            [
             0.8888888888888888,
             "#fdca26"
            ],
            [
             1,
             "#f0f921"
            ]
           ],
           "sequentialminus": [
            [
             0,
             "#0d0887"
            ],
            [
             0.1111111111111111,
             "#46039f"
            ],
            [
             0.2222222222222222,
             "#7201a8"
            ],
            [
             0.3333333333333333,
             "#9c179e"
            ],
            [
             0.4444444444444444,
             "#bd3786"
            ],
            [
             0.5555555555555556,
             "#d8576b"
            ],
            [
             0.6666666666666666,
             "#ed7953"
            ],
            [
             0.7777777777777778,
             "#fb9f3a"
            ],
            [
             0.8888888888888888,
             "#fdca26"
            ],
            [
             1,
             "#f0f921"
            ]
           ]
          },
          "colorway": [
           "#636efa",
           "#EF553B",
           "#00cc96",
           "#ab63fa",
           "#FFA15A",
           "#19d3f3",
           "#FF6692",
           "#B6E880",
           "#FF97FF",
           "#FECB52"
          ],
          "font": {
           "color": "#2a3f5f"
          },
          "geo": {
           "bgcolor": "white",
           "lakecolor": "white",
           "landcolor": "#E5ECF6",
           "showlakes": true,
           "showland": true,
           "subunitcolor": "white"
          },
          "hoverlabel": {
           "align": "left"
          },
          "hovermode": "closest",
          "mapbox": {
           "style": "light"
          },
          "paper_bgcolor": "white",
          "plot_bgcolor": "#E5ECF6",
          "polar": {
           "angularaxis": {
            "gridcolor": "white",
            "linecolor": "white",
            "ticks": ""
           },
           "bgcolor": "#E5ECF6",
           "radialaxis": {
            "gridcolor": "white",
            "linecolor": "white",
            "ticks": ""
           }
          },
          "scene": {
           "xaxis": {
            "backgroundcolor": "#E5ECF6",
            "gridcolor": "white",
            "gridwidth": 2,
            "linecolor": "white",
            "showbackground": true,
            "ticks": "",
            "zerolinecolor": "white"
           },
           "yaxis": {
            "backgroundcolor": "#E5ECF6",
            "gridcolor": "white",
            "gridwidth": 2,
            "linecolor": "white",
            "showbackground": true,
            "ticks": "",
            "zerolinecolor": "white"
           },
           "zaxis": {
            "backgroundcolor": "#E5ECF6",
            "gridcolor": "white",
            "gridwidth": 2,
            "linecolor": "white",
            "showbackground": true,
            "ticks": "",
            "zerolinecolor": "white"
           }
          },
          "shapedefaults": {
           "line": {
            "color": "#2a3f5f"
           }
          },
          "ternary": {
           "aaxis": {
            "gridcolor": "white",
            "linecolor": "white",
            "ticks": ""
           },
           "baxis": {
            "gridcolor": "white",
            "linecolor": "white",
            "ticks": ""
           },
           "bgcolor": "#E5ECF6",
           "caxis": {
            "gridcolor": "white",
            "linecolor": "white",
            "ticks": ""
           }
          },
          "title": {
           "x": 0.05
          },
          "xaxis": {
           "automargin": true,
           "gridcolor": "white",
           "linecolor": "white",
           "ticks": "",
           "title": {
            "standoff": 15
           },
           "zerolinecolor": "white",
           "zerolinewidth": 2
          },
          "yaxis": {
           "automargin": true,
           "gridcolor": "white",
           "linecolor": "white",
           "ticks": "",
           "title": {
            "standoff": 15
           },
           "zerolinecolor": "white",
           "zerolinewidth": 2
          }
         }
        },
        "title": {
         "text": "Multilayer Network in 3D with Layers"
        }
       }
      }
     },
     "metadata": {},
     "output_type": "display_data"
    }
   ],
   "source": [
    "import networkx as nx\n",
    "import plotly.graph_objects as go\n",
    "\n",
    "def plot_multilayer_network(df, from_col, to_col, from_layer_col, to_layer_col, property_cols=None, layer_positions=None, layer_colors=None, split_char='|'):\n",
    "    \"\"\"\n",
    "    Plots a 3D multilayer network from a DataFrame with customizable layers and properties.\n",
    "    \n",
    "    Args:\n",
    "    - df: DataFrame containing the network edges.\n",
    "    - from_col: Column name in `df` for source node IDs.\n",
    "    - to_col: Column name in `df` for target node IDs.\n",
    "    - from_layer_col: Column name in `df` specifying source node layers.\n",
    "    - to_layer_col: Column name in `df` specifying target node layers.\n",
    "    - property_cols: Optional; list of column names in `df` to be used as edge properties.\n",
    "    - layer_positions: Dictionary specifying the z-coordinate for each layer (e.g., {'Genomics': 0, 'Proteomics': 1}).\n",
    "    - layer_colors: Dictionary specifying the color for each layer (e.g., {'Genomics': 'red', 'Proteomics': 'blue'}).\n",
    "    - split_char: Character used to split multiple node IDs within a single cell in `from_col` and `to_col`.\n",
    "    \n",
    "    Returns:\n",
    "    - A Plotly figure with the 3D network visualization.\n",
    "    \"\"\"\n",
    "    # Default properties if not provided\n",
    "    if layer_positions is None:\n",
    "        layer_positions = {layer: idx for idx, layer in enumerate(df[from_layer_col].unique())}\n",
    "    if layer_colors is None:\n",
    "        colors = ['red', 'blue', 'green', 'orange', 'purple', 'cyan']\n",
    "        layer_colors = {layer: colors[idx % len(colors)] for idx, layer in enumerate(df[from_layer_col].unique())}\n",
    "    \n",
    "    # Initialize NetworkX graph\n",
    "    G = nx.DiGraph()\n",
    "\n",
    "    # Add nodes and edges based on DataFrame\n",
    "    for _, row in df.iterrows():\n",
    "        from_nodes = row[from_col].split(split_char)\n",
    "        to_nodes = row[to_col].split(split_char)\n",
    "        from_layer = row[from_layer_col]\n",
    "        to_layer = row[to_layer_col]\n",
    "        \n",
    "        for from_node in from_nodes:\n",
    "            G.add_node(from_node, layer=from_layer, color=layer_colors.get(from_layer, 'grey'), pos=(0, 0, layer_positions[from_layer]))\n",
    "        for to_node in to_nodes:\n",
    "            G.add_node(to_node, layer=to_layer, color=layer_colors.get(to_layer, 'grey'), pos=(0, 0, layer_positions[to_layer]))\n",
    "        \n",
    "        for from_node in from_nodes:\n",
    "            for to_node in to_nodes:\n",
    "                edge_props = {prop: row[prop] for prop in property_cols} if property_cols else {}\n",
    "                G.add_edge(from_node, to_node, **edge_props)\n",
    "    \n",
    "    # Define 3D positions for nodes\n",
    "    node_positions = {node: (i, 0, layer_positions[G.nodes[node]['layer']]) for i, node in enumerate(G.nodes)}\n",
    "\n",
    "    # Prepare Plotly data for edges\n",
    "    edge_x, edge_y, edge_z = [], [], []\n",
    "    for edge in G.edges():\n",
    "        x0, y0, z0 = node_positions[edge[0]]\n",
    "        x1, y1, z1 = node_positions[edge[1]]\n",
    "        edge_x += [x0, x1, None]\n",
    "        edge_y += [y0, y1, None]\n",
    "        edge_z += [z0, z1, None]\n",
    "\n",
    "    # Prepare Plotly data for nodes\n",
    "    node_x = [node_positions[node][0] for node in G.nodes]\n",
    "    node_y = [node_positions[node][1] for node in G.nodes]\n",
    "    node_z = [node_positions[node][2] for node in G.nodes]\n",
    "    node_colors = [G.nodes[node]['color'] for node in G.nodes]\n",
    "\n",
    "    # Plot with Plotly\n",
    "    fig = go.Figure()\n",
    "\n",
    "    # Add edges\n",
    "    fig.add_trace(go.Scatter3d(x=edge_x, y=edge_y, z=edge_z,\n",
    "                               mode='lines',\n",
    "                               line=dict(color='grey', width=1),\n",
    "                               hoverinfo='none'))\n",
    "\n",
    "    # Add nodes\n",
    "    fig.add_trace(go.Scatter3d(x=node_x, y=node_y, z=node_z,\n",
    "                               mode='markers+text',\n",
    "                               marker=dict(size=8, color=node_colors),\n",
    "                               text=list(G.nodes),\n",
    "                               textposition=\"top center\"))\n",
    "\n",
    "    # Add layer planes using Mesh3d for visual separation\n",
    "    for layer, z in layer_positions.items():\n",
    "        fig.add_trace(go.Mesh3d(\n",
    "            x=[-1, len(G.nodes), len(G.nodes), -1],  # X-coordinates of the vertices\n",
    "            y=[-1, -1, 1, 1],                       # Y-coordinates of the vertices\n",
    "            z=[z, z, z, z],                         # Z-coordinate is constant for each layer\n",
    "            color=layer_colors[layer],\n",
    "            opacity=0.1,\n",
    "            hoverinfo='none'\n",
    "        ))\n",
    "\n",
    "    # Set plot settings\n",
    "    fig.update_layout(scene=dict(\n",
    "                        xaxis=dict(showbackground=False),\n",
    "                        yaxis=dict(showbackground=False),\n",
    "                        zaxis=dict(showbackground=False),\n",
    "                      ),\n",
    "                      title=\"Multilayer Network in 3D with Layers\",\n",
    "                      showlegend=False)\n",
    "\n",
    "    fig.show()\n",
    "\n",
    "# Example usage\n",
    "# Assuming df_edges is the DataFrame created earlier\n",
    "plot_multilayer_network(\n",
    "    df=df_edges,\n",
    "    from_col='from_node',\n",
    "    to_col='to_node',\n",
    "    from_layer_col='from_layer',\n",
    "    to_layer_col='to_layer',\n",
    "    property_cols=['edge_type', 'edge_weight'],\n",
    "    layer_positions={'Genomics': 0, 'Proteomics': 1, 'Metabolomics': 2},\n",
    "    layer_colors={'Genomics': 'red', 'Proteomics': 'blue', 'Metabolomics': 'green'}\n",
    ")"
   ]
  },
  {
   "cell_type": "markdown",
   "metadata": {},
   "source": [
    "Now let's use the df from earlier"
   ]
  },
  {
   "cell_type": "code",
   "execution_count": 62,
   "metadata": {},
   "outputs": [
    {
     "data": {
      "text/html": [
       "<div>\n",
       "<style scoped>\n",
       "    .dataframe tbody tr th:only-of-type {\n",
       "        vertical-align: middle;\n",
       "    }\n",
       "\n",
       "    .dataframe tbody tr th {\n",
       "        vertical-align: top;\n",
       "    }\n",
       "\n",
       "    .dataframe thead th {\n",
       "        text-align: right;\n",
       "    }\n",
       "</style>\n",
       "<table border=\"1\" class=\"dataframe\">\n",
       "  <thead>\n",
       "    <tr style=\"text-align: right;\">\n",
       "      <th></th>\n",
       "      <th>from_node</th>\n",
       "      <th>to_node</th>\n",
       "      <th>from_layer</th>\n",
       "      <th>to_layer</th>\n",
       "      <th>edge_type</th>\n",
       "      <th>edge_weight</th>\n",
       "      <th>confidence_score</th>\n",
       "    </tr>\n",
       "  </thead>\n",
       "  <tbody>\n",
       "    <tr>\n",
       "      <th>0</th>\n",
       "      <td>GeneA|GeneB</td>\n",
       "      <td>ProteinX|ProteinY</td>\n",
       "      <td>genes</td>\n",
       "      <td>proteins</td>\n",
       "      <td>activation</td>\n",
       "      <td>0.90</td>\n",
       "      <td>0.95</td>\n",
       "    </tr>\n",
       "    <tr>\n",
       "      <th>1</th>\n",
       "      <td>GeneF</td>\n",
       "      <td>MetaboliteY</td>\n",
       "      <td>genes</td>\n",
       "      <td>metabolites</td>\n",
       "      <td>inhibition</td>\n",
       "      <td>0.70</td>\n",
       "      <td>0.80</td>\n",
       "    </tr>\n",
       "    <tr>\n",
       "      <th>2</th>\n",
       "      <td>ProteinX|ProteinW</td>\n",
       "      <td>MetaboliteZ</td>\n",
       "      <td>proteins</td>\n",
       "      <td>metabolites</td>\n",
       "      <td>conversion</td>\n",
       "      <td>1.00</td>\n",
       "      <td>0.99</td>\n",
       "    </tr>\n",
       "    <tr>\n",
       "      <th>3</th>\n",
       "      <td>MetaboliteY</td>\n",
       "      <td>ProteinZ|ProteinW</td>\n",
       "      <td>metabolites</td>\n",
       "      <td>proteins</td>\n",
       "      <td>binding</td>\n",
       "      <td>0.30</td>\n",
       "      <td>0.60</td>\n",
       "    </tr>\n",
       "    <tr>\n",
       "      <th>4</th>\n",
       "      <td>GeneC</td>\n",
       "      <td>GeneD</td>\n",
       "      <td>genes</td>\n",
       "      <td>genes</td>\n",
       "      <td>binding</td>\n",
       "      <td>0.40</td>\n",
       "      <td>0.70</td>\n",
       "    </tr>\n",
       "    <tr>\n",
       "      <th>5</th>\n",
       "      <td>GeneD|GeneE</td>\n",
       "      <td>ProteinZ</td>\n",
       "      <td>genes</td>\n",
       "      <td>proteins</td>\n",
       "      <td>modulation</td>\n",
       "      <td>0.75</td>\n",
       "      <td>0.80</td>\n",
       "    </tr>\n",
       "    <tr>\n",
       "      <th>6</th>\n",
       "      <td>GeneG</td>\n",
       "      <td>ProteinB</td>\n",
       "      <td>genes</td>\n",
       "      <td>proteins</td>\n",
       "      <td>activation</td>\n",
       "      <td>0.80</td>\n",
       "      <td>0.90</td>\n",
       "    </tr>\n",
       "    <tr>\n",
       "      <th>7</th>\n",
       "      <td>ProteinA</td>\n",
       "      <td>MetaboliteA|MetaboliteB</td>\n",
       "      <td>proteins</td>\n",
       "      <td>metabolites</td>\n",
       "      <td>transport</td>\n",
       "      <td>0.65</td>\n",
       "      <td>0.85</td>\n",
       "    </tr>\n",
       "  </tbody>\n",
       "</table>\n",
       "</div>"
      ],
      "text/plain": [
       "           from_node                  to_node   from_layer     to_layer  \\\n",
       "0        GeneA|GeneB        ProteinX|ProteinY        genes     proteins   \n",
       "1              GeneF              MetaboliteY        genes  metabolites   \n",
       "2  ProteinX|ProteinW              MetaboliteZ     proteins  metabolites   \n",
       "3        MetaboliteY        ProteinZ|ProteinW  metabolites     proteins   \n",
       "4              GeneC                    GeneD        genes        genes   \n",
       "5        GeneD|GeneE                 ProteinZ        genes     proteins   \n",
       "6              GeneG                 ProteinB        genes     proteins   \n",
       "7           ProteinA  MetaboliteA|MetaboliteB     proteins  metabolites   \n",
       "\n",
       "    edge_type  edge_weight  confidence_score  \n",
       "0  activation         0.90              0.95  \n",
       "1  inhibition         0.70              0.80  \n",
       "2  conversion         1.00              0.99  \n",
       "3     binding         0.30              0.60  \n",
       "4     binding         0.40              0.70  \n",
       "5  modulation         0.75              0.80  \n",
       "6  activation         0.80              0.90  \n",
       "7   transport         0.65              0.85  "
      ]
     },
     "metadata": {},
     "output_type": "display_data"
    }
   ],
   "source": [
    "# Expanded DataFrame with additional nodes and edges\n",
    "df_edges = pd.DataFrame({\n",
    "    'from_node': ['GeneA|GeneB', 'GeneF', 'ProteinX|ProteinW', 'MetaboliteY', 'GeneC', 'GeneD|GeneE', 'GeneG', 'ProteinA'],\n",
    "    'to_node': ['ProteinX|ProteinY', 'MetaboliteY', 'MetaboliteZ', 'ProteinZ|ProteinW', 'GeneD', 'ProteinZ', 'ProteinB', 'MetaboliteA|MetaboliteB'],\n",
    "    'from_layer': ['genes', 'genes', 'proteins', 'metabolites', 'genes', 'genes', 'genes', 'proteins'],\n",
    "    'to_layer': ['proteins', 'metabolites', 'metabolites', 'proteins', 'genes', 'proteins', 'proteins', 'metabolites'],\n",
    "    'edge_type': ['activation', 'inhibition', 'conversion', 'binding', 'binding', 'modulation', 'activation', 'transport'],\n",
    "    'edge_weight': [0.9, 0.7, 1.0, 0.3, 0.4, 0.75, 0.8, 0.65],\n",
    "    'confidence_score': [0.95, 0.8, 0.99, 0.6, 0.7, 0.8, 0.9, 0.85]\n",
    "})\n",
    "\n",
    "# Display the DataFrame for reference\n",
    "display(df_edges)"
   ]
  },
  {
   "cell_type": "code",
   "execution_count": 64,
   "metadata": {},
   "outputs": [
    {
     "data": {
      "application/vnd.plotly.v1+json": {
       "config": {
        "plotlyServerURL": "https://plot.ly"
       },
       "data": [
        {
         "hoverinfo": "none",
         "line": {
          "color": "grey",
          "width": 1
         },
         "mode": "lines",
         "type": "scatter3d",
         "x": [
          0,
          2,
          null,
          0,
          3,
          null,
          1,
          2,
          null,
          1,
          3,
          null,
          2,
          7,
          null,
          4,
          5,
          null,
          5,
          8,
          null,
          5,
          6,
          null,
          6,
          7,
          null,
          9,
          10,
          null,
          10,
          8,
          null,
          11,
          8,
          null,
          12,
          13,
          null,
          14,
          15,
          null,
          14,
          16,
          null
         ],
         "y": [
          0,
          0,
          null,
          0,
          0,
          null,
          0,
          0,
          null,
          0,
          0,
          null,
          0,
          0,
          null,
          0,
          0,
          null,
          0,
          0,
          null,
          0,
          0,
          null,
          0,
          0,
          null,
          0,
          0,
          null,
          0,
          0,
          null,
          0,
          0,
          null,
          0,
          0,
          null,
          0,
          0,
          null,
          0,
          0,
          null
         ],
         "z": [
          0,
          1,
          null,
          0,
          1,
          null,
          0,
          1,
          null,
          0,
          1,
          null,
          1,
          2,
          null,
          0,
          2,
          null,
          2,
          1,
          null,
          2,
          1,
          null,
          1,
          2,
          null,
          0,
          0,
          null,
          0,
          1,
          null,
          0,
          1,
          null,
          0,
          1,
          null,
          1,
          2,
          null,
          1,
          2,
          null
         ]
        },
        {
         "marker": {
          "color": [
           "red",
           "red",
           "blue",
           "blue",
           "red",
           "green",
           "blue",
           "green",
           "blue",
           "red",
           "red",
           "red",
           "red",
           "blue",
           "blue",
           "green",
           "green"
          ],
          "size": 8
         },
         "mode": "markers+text",
         "text": [
          "GeneA",
          "GeneB",
          "ProteinX",
          "ProteinY",
          "GeneF",
          "MetaboliteY",
          "ProteinW",
          "MetaboliteZ",
          "ProteinZ",
          "GeneC",
          "GeneD",
          "GeneE",
          "GeneG",
          "ProteinB",
          "ProteinA",
          "MetaboliteA",
          "MetaboliteB"
         ],
         "textposition": "top center",
         "type": "scatter3d",
         "x": [
          0,
          1,
          2,
          3,
          4,
          5,
          6,
          7,
          8,
          9,
          10,
          11,
          12,
          13,
          14,
          15,
          16
         ],
         "y": [
          0,
          0,
          0,
          0,
          0,
          0,
          0,
          0,
          0,
          0,
          0,
          0,
          0,
          0,
          0,
          0,
          0
         ],
         "z": [
          0,
          0,
          1,
          1,
          0,
          2,
          1,
          2,
          1,
          0,
          0,
          0,
          0,
          1,
          1,
          2,
          2
         ]
        },
        {
         "color": "red",
         "hoverinfo": "none",
         "opacity": 0.1,
         "type": "mesh3d",
         "x": [
          -1,
          17,
          17,
          -1
         ],
         "y": [
          -1,
          -1,
          1,
          1
         ],
         "z": [
          0,
          0,
          0,
          0
         ]
        },
        {
         "color": "blue",
         "hoverinfo": "none",
         "opacity": 0.1,
         "type": "mesh3d",
         "x": [
          -1,
          17,
          17,
          -1
         ],
         "y": [
          -1,
          -1,
          1,
          1
         ],
         "z": [
          1,
          1,
          1,
          1
         ]
        },
        {
         "color": "green",
         "hoverinfo": "none",
         "opacity": 0.1,
         "type": "mesh3d",
         "x": [
          -1,
          17,
          17,
          -1
         ],
         "y": [
          -1,
          -1,
          1,
          1
         ],
         "z": [
          2,
          2,
          2,
          2
         ]
        }
       ],
       "layout": {
        "scene": {
         "xaxis": {
          "showbackground": false
         },
         "yaxis": {
          "showbackground": false
         },
         "zaxis": {
          "showbackground": false
         }
        },
        "showlegend": false,
        "template": {
         "data": {
          "bar": [
           {
            "error_x": {
             "color": "#2a3f5f"
            },
            "error_y": {
             "color": "#2a3f5f"
            },
            "marker": {
             "line": {
              "color": "#E5ECF6",
              "width": 0.5
             },
             "pattern": {
              "fillmode": "overlay",
              "size": 10,
              "solidity": 0.2
             }
            },
            "type": "bar"
           }
          ],
          "barpolar": [
           {
            "marker": {
             "line": {
              "color": "#E5ECF6",
              "width": 0.5
             },
             "pattern": {
              "fillmode": "overlay",
              "size": 10,
              "solidity": 0.2
             }
            },
            "type": "barpolar"
           }
          ],
          "carpet": [
           {
            "aaxis": {
             "endlinecolor": "#2a3f5f",
             "gridcolor": "white",
             "linecolor": "white",
             "minorgridcolor": "white",
             "startlinecolor": "#2a3f5f"
            },
            "baxis": {
             "endlinecolor": "#2a3f5f",
             "gridcolor": "white",
             "linecolor": "white",
             "minorgridcolor": "white",
             "startlinecolor": "#2a3f5f"
            },
            "type": "carpet"
           }
          ],
          "choropleth": [
           {
            "colorbar": {
             "outlinewidth": 0,
             "ticks": ""
            },
            "type": "choropleth"
           }
          ],
          "contour": [
           {
            "colorbar": {
             "outlinewidth": 0,
             "ticks": ""
            },
            "colorscale": [
             [
              0,
              "#0d0887"
             ],
             [
              0.1111111111111111,
              "#46039f"
             ],
             [
              0.2222222222222222,
              "#7201a8"
             ],
             [
              0.3333333333333333,
              "#9c179e"
             ],
             [
              0.4444444444444444,
              "#bd3786"
             ],
             [
              0.5555555555555556,
              "#d8576b"
             ],
             [
              0.6666666666666666,
              "#ed7953"
             ],
             [
              0.7777777777777778,
              "#fb9f3a"
             ],
             [
              0.8888888888888888,
              "#fdca26"
             ],
             [
              1,
              "#f0f921"
             ]
            ],
            "type": "contour"
           }
          ],
          "contourcarpet": [
           {
            "colorbar": {
             "outlinewidth": 0,
             "ticks": ""
            },
            "type": "contourcarpet"
           }
          ],
          "heatmap": [
           {
            "colorbar": {
             "outlinewidth": 0,
             "ticks": ""
            },
            "colorscale": [
             [
              0,
              "#0d0887"
             ],
             [
              0.1111111111111111,
              "#46039f"
             ],
             [
              0.2222222222222222,
              "#7201a8"
             ],
             [
              0.3333333333333333,
              "#9c179e"
             ],
             [
              0.4444444444444444,
              "#bd3786"
             ],
             [
              0.5555555555555556,
              "#d8576b"
             ],
             [
              0.6666666666666666,
              "#ed7953"
             ],
             [
              0.7777777777777778,
              "#fb9f3a"
             ],
             [
              0.8888888888888888,
              "#fdca26"
             ],
             [
              1,
              "#f0f921"
             ]
            ],
            "type": "heatmap"
           }
          ],
          "heatmapgl": [
           {
            "colorbar": {
             "outlinewidth": 0,
             "ticks": ""
            },
            "colorscale": [
             [
              0,
              "#0d0887"
             ],
             [
              0.1111111111111111,
              "#46039f"
             ],
             [
              0.2222222222222222,
              "#7201a8"
             ],
             [
              0.3333333333333333,
              "#9c179e"
             ],
             [
              0.4444444444444444,
              "#bd3786"
             ],
             [
              0.5555555555555556,
              "#d8576b"
             ],
             [
              0.6666666666666666,
              "#ed7953"
             ],
             [
              0.7777777777777778,
              "#fb9f3a"
             ],
             [
              0.8888888888888888,
              "#fdca26"
             ],
             [
              1,
              "#f0f921"
             ]
            ],
            "type": "heatmapgl"
           }
          ],
          "histogram": [
           {
            "marker": {
             "pattern": {
              "fillmode": "overlay",
              "size": 10,
              "solidity": 0.2
             }
            },
            "type": "histogram"
           }
          ],
          "histogram2d": [
           {
            "colorbar": {
             "outlinewidth": 0,
             "ticks": ""
            },
            "colorscale": [
             [
              0,
              "#0d0887"
             ],
             [
              0.1111111111111111,
              "#46039f"
             ],
             [
              0.2222222222222222,
              "#7201a8"
             ],
             [
              0.3333333333333333,
              "#9c179e"
             ],
             [
              0.4444444444444444,
              "#bd3786"
             ],
             [
              0.5555555555555556,
              "#d8576b"
             ],
             [
              0.6666666666666666,
              "#ed7953"
             ],
             [
              0.7777777777777778,
              "#fb9f3a"
             ],
             [
              0.8888888888888888,
              "#fdca26"
             ],
             [
              1,
              "#f0f921"
             ]
            ],
            "type": "histogram2d"
           }
          ],
          "histogram2dcontour": [
           {
            "colorbar": {
             "outlinewidth": 0,
             "ticks": ""
            },
            "colorscale": [
             [
              0,
              "#0d0887"
             ],
             [
              0.1111111111111111,
              "#46039f"
             ],
             [
              0.2222222222222222,
              "#7201a8"
             ],
             [
              0.3333333333333333,
              "#9c179e"
             ],
             [
              0.4444444444444444,
              "#bd3786"
             ],
             [
              0.5555555555555556,
              "#d8576b"
             ],
             [
              0.6666666666666666,
              "#ed7953"
             ],
             [
              0.7777777777777778,
              "#fb9f3a"
             ],
             [
              0.8888888888888888,
              "#fdca26"
             ],
             [
              1,
              "#f0f921"
             ]
            ],
            "type": "histogram2dcontour"
           }
          ],
          "mesh3d": [
           {
            "colorbar": {
             "outlinewidth": 0,
             "ticks": ""
            },
            "type": "mesh3d"
           }
          ],
          "parcoords": [
           {
            "line": {
             "colorbar": {
              "outlinewidth": 0,
              "ticks": ""
             }
            },
            "type": "parcoords"
           }
          ],
          "pie": [
           {
            "automargin": true,
            "type": "pie"
           }
          ],
          "scatter": [
           {
            "fillpattern": {
             "fillmode": "overlay",
             "size": 10,
             "solidity": 0.2
            },
            "type": "scatter"
           }
          ],
          "scatter3d": [
           {
            "line": {
             "colorbar": {
              "outlinewidth": 0,
              "ticks": ""
             }
            },
            "marker": {
             "colorbar": {
              "outlinewidth": 0,
              "ticks": ""
             }
            },
            "type": "scatter3d"
           }
          ],
          "scattercarpet": [
           {
            "marker": {
             "colorbar": {
              "outlinewidth": 0,
              "ticks": ""
             }
            },
            "type": "scattercarpet"
           }
          ],
          "scattergeo": [
           {
            "marker": {
             "colorbar": {
              "outlinewidth": 0,
              "ticks": ""
             }
            },
            "type": "scattergeo"
           }
          ],
          "scattergl": [
           {
            "marker": {
             "colorbar": {
              "outlinewidth": 0,
              "ticks": ""
             }
            },
            "type": "scattergl"
           }
          ],
          "scattermapbox": [
           {
            "marker": {
             "colorbar": {
              "outlinewidth": 0,
              "ticks": ""
             }
            },
            "type": "scattermapbox"
           }
          ],
          "scatterpolar": [
           {
            "marker": {
             "colorbar": {
              "outlinewidth": 0,
              "ticks": ""
             }
            },
            "type": "scatterpolar"
           }
          ],
          "scatterpolargl": [
           {
            "marker": {
             "colorbar": {
              "outlinewidth": 0,
              "ticks": ""
             }
            },
            "type": "scatterpolargl"
           }
          ],
          "scatterternary": [
           {
            "marker": {
             "colorbar": {
              "outlinewidth": 0,
              "ticks": ""
             }
            },
            "type": "scatterternary"
           }
          ],
          "surface": [
           {
            "colorbar": {
             "outlinewidth": 0,
             "ticks": ""
            },
            "colorscale": [
             [
              0,
              "#0d0887"
             ],
             [
              0.1111111111111111,
              "#46039f"
             ],
             [
              0.2222222222222222,
              "#7201a8"
             ],
             [
              0.3333333333333333,
              "#9c179e"
             ],
             [
              0.4444444444444444,
              "#bd3786"
             ],
             [
              0.5555555555555556,
              "#d8576b"
             ],
             [
              0.6666666666666666,
              "#ed7953"
             ],
             [
              0.7777777777777778,
              "#fb9f3a"
             ],
             [
              0.8888888888888888,
              "#fdca26"
             ],
             [
              1,
              "#f0f921"
             ]
            ],
            "type": "surface"
           }
          ],
          "table": [
           {
            "cells": {
             "fill": {
              "color": "#EBF0F8"
             },
             "line": {
              "color": "white"
             }
            },
            "header": {
             "fill": {
              "color": "#C8D4E3"
             },
             "line": {
              "color": "white"
             }
            },
            "type": "table"
           }
          ]
         },
         "layout": {
          "annotationdefaults": {
           "arrowcolor": "#2a3f5f",
           "arrowhead": 0,
           "arrowwidth": 1
          },
          "autotypenumbers": "strict",
          "coloraxis": {
           "colorbar": {
            "outlinewidth": 0,
            "ticks": ""
           }
          },
          "colorscale": {
           "diverging": [
            [
             0,
             "#8e0152"
            ],
            [
             0.1,
             "#c51b7d"
            ],
            [
             0.2,
             "#de77ae"
            ],
            [
             0.3,
             "#f1b6da"
            ],
            [
             0.4,
             "#fde0ef"
            ],
            [
             0.5,
             "#f7f7f7"
            ],
            [
             0.6,
             "#e6f5d0"
            ],
            [
             0.7,
             "#b8e186"
            ],
            [
             0.8,
             "#7fbc41"
            ],
            [
             0.9,
             "#4d9221"
            ],
            [
             1,
             "#276419"
            ]
           ],
           "sequential": [
            [
             0,
             "#0d0887"
            ],
            [
             0.1111111111111111,
             "#46039f"
            ],
            [
             0.2222222222222222,
             "#7201a8"
            ],
            [
             0.3333333333333333,
             "#9c179e"
            ],
            [
             0.4444444444444444,
             "#bd3786"
            ],
            [
             0.5555555555555556,
             "#d8576b"
            ],
            [
             0.6666666666666666,
             "#ed7953"
            ],
            [
             0.7777777777777778,
             "#fb9f3a"
            ],
            [
             0.8888888888888888,
             "#fdca26"
            ],
            [
             1,
             "#f0f921"
            ]
           ],
           "sequentialminus": [
            [
             0,
             "#0d0887"
            ],
            [
             0.1111111111111111,
             "#46039f"
            ],
            [
             0.2222222222222222,
             "#7201a8"
            ],
            [
             0.3333333333333333,
             "#9c179e"
            ],
            [
             0.4444444444444444,
             "#bd3786"
            ],
            [
             0.5555555555555556,
             "#d8576b"
            ],
            [
             0.6666666666666666,
             "#ed7953"
            ],
            [
             0.7777777777777778,
             "#fb9f3a"
            ],
            [
             0.8888888888888888,
             "#fdca26"
            ],
            [
             1,
             "#f0f921"
            ]
           ]
          },
          "colorway": [
           "#636efa",
           "#EF553B",
           "#00cc96",
           "#ab63fa",
           "#FFA15A",
           "#19d3f3",
           "#FF6692",
           "#B6E880",
           "#FF97FF",
           "#FECB52"
          ],
          "font": {
           "color": "#2a3f5f"
          },
          "geo": {
           "bgcolor": "white",
           "lakecolor": "white",
           "landcolor": "#E5ECF6",
           "showlakes": true,
           "showland": true,
           "subunitcolor": "white"
          },
          "hoverlabel": {
           "align": "left"
          },
          "hovermode": "closest",
          "mapbox": {
           "style": "light"
          },
          "paper_bgcolor": "white",
          "plot_bgcolor": "#E5ECF6",
          "polar": {
           "angularaxis": {
            "gridcolor": "white",
            "linecolor": "white",
            "ticks": ""
           },
           "bgcolor": "#E5ECF6",
           "radialaxis": {
            "gridcolor": "white",
            "linecolor": "white",
            "ticks": ""
           }
          },
          "scene": {
           "xaxis": {
            "backgroundcolor": "#E5ECF6",
            "gridcolor": "white",
            "gridwidth": 2,
            "linecolor": "white",
            "showbackground": true,
            "ticks": "",
            "zerolinecolor": "white"
           },
           "yaxis": {
            "backgroundcolor": "#E5ECF6",
            "gridcolor": "white",
            "gridwidth": 2,
            "linecolor": "white",
            "showbackground": true,
            "ticks": "",
            "zerolinecolor": "white"
           },
           "zaxis": {
            "backgroundcolor": "#E5ECF6",
            "gridcolor": "white",
            "gridwidth": 2,
            "linecolor": "white",
            "showbackground": true,
            "ticks": "",
            "zerolinecolor": "white"
           }
          },
          "shapedefaults": {
           "line": {
            "color": "#2a3f5f"
           }
          },
          "ternary": {
           "aaxis": {
            "gridcolor": "white",
            "linecolor": "white",
            "ticks": ""
           },
           "baxis": {
            "gridcolor": "white",
            "linecolor": "white",
            "ticks": ""
           },
           "bgcolor": "#E5ECF6",
           "caxis": {
            "gridcolor": "white",
            "linecolor": "white",
            "ticks": ""
           }
          },
          "title": {
           "x": 0.05
          },
          "xaxis": {
           "automargin": true,
           "gridcolor": "white",
           "linecolor": "white",
           "ticks": "",
           "title": {
            "standoff": 15
           },
           "zerolinecolor": "white",
           "zerolinewidth": 2
          },
          "yaxis": {
           "automargin": true,
           "gridcolor": "white",
           "linecolor": "white",
           "ticks": "",
           "title": {
            "standoff": 15
           },
           "zerolinecolor": "white",
           "zerolinewidth": 2
          }
         }
        },
        "title": {
         "text": "Multilayer Network in 3D with Layers"
        }
       }
      }
     },
     "metadata": {},
     "output_type": "display_data"
    }
   ],
   "source": [
    "# plot_multilayer_network(\n",
    "#     df=df_edges,\n",
    "#     from_col='from_node',\n",
    "#     to_col='to_node',\n",
    "#     from_layer_col='from_layer',\n",
    "#     to_layer_col='to_layer',\n",
    "#     property_cols=['edge_type', 'edge_weight'],\n",
    "#     layer_positions={'Genomics': 0, 'Proteomics': 1, 'Metabolomics': 2},\n",
    "#     layer_colors={'Genomics': 'red', 'Proteomics': 'blue', 'Metabolomics': 'green'}\n",
    "# )\n",
    "\n",
    "# Corrected layer_positions and layer_colors dictionaries to match DataFrame layer names\n",
    "plot_multilayer_network(\n",
    "    df=df_edges,\n",
    "    from_col='from_node',\n",
    "    to_col='to_node',\n",
    "    from_layer_col='from_layer',\n",
    "    to_layer_col='to_layer',\n",
    "    property_cols=['edge_type', 'edge_weight'],\n",
    "    layer_positions={'genes': 0, 'proteins': 1, 'metabolites': 2},\n",
    "    layer_colors={'genes': 'red', 'proteins': 'blue', 'metabolites': 'green'}\n",
    ")"
   ]
  },
  {
   "cell_type": "code",
   "execution_count": null,
   "metadata": {},
   "outputs": [],
   "source": []
  },
  {
   "cell_type": "markdown",
   "metadata": {},
   "source": [
    "Playing around with colouring nodes"
   ]
  },
  {
   "cell_type": "code",
   "execution_count": 17,
   "metadata": {},
   "outputs": [],
   "source": [
    "def word(x):\n",
    "    for item in x:\n",
    "        print(x)\n",
    "        if item=='Layer1':\n",
    "            return 'Green'\n",
    "        else:\n",
    "            return 'Red'"
   ]
  },
  {
   "cell_type": "code",
   "execution_count": 12,
   "metadata": {},
   "outputs": [
    {
     "name": "stdout",
     "output_type": "stream",
     "text": [
      "<VertexPropertyMap object with value type 'string', for Graph 0x16becd280, at 0x16becd2b0>\n"
     ]
    },
    {
     "data": {
      "text/plain": [
       "'Green'"
      ]
     },
     "execution_count": 12,
     "metadata": {},
     "output_type": "execute_result"
    }
   ],
   "source": [
    "word(network.graph.vp['layer'])"
   ]
  },
  {
   "cell_type": "code",
   "execution_count": 26,
   "metadata": {},
   "outputs": [
    {
     "data": {
      "image/png": "[encoded data removed]",
      "text/plain": [
       "<IPython.core.display.Image object>"
      ]
     },
     "metadata": {
      "image/png": {
       "height": 543,
       "width": 600
      }
     },
     "output_type": "display_data"
    },
    {
     "data": {
      "text/plain": [
       "<VertexPropertyMap object with value type 'vector<double>', for Graph 0x178c01490, at 0x178e85af0>"
      ]
     },
     "execution_count": 26,
     "metadata": {},
     "output_type": "execute_result"
    }
   ],
   "source": [
    "graph_draw(network.graph, vertex_color='orange')"
   ]
  },
  {
   "cell_type": "code",
   "execution_count": 24,
   "metadata": {},
   "outputs": [
    {
     "name": "stdout",
     "output_type": "stream",
     "text": [
      "<VertexPropertyMap object with value type 'string', for Graph 0x178c01490, at 0x178c014c0>\n"
     ]
    },
    {
     "data": {
      "image/png": "[encoded data removed]",
      "text/plain": [
       "<IPython.core.display.Image object>"
      ]
     },
     "metadata": {
      "image/png": {
       "height": 572,
       "width": 600
      }
     },
     "output_type": "display_data"
    },
    {
     "data": {
      "text/plain": [
       "<VertexPropertyMap object with value type 'vector<double>', for Graph 0x178c01490, at 0x152314710>"
      ]
     },
     "execution_count": 24,
     "metadata": {},
     "output_type": "execute_result"
    }
   ],
   "source": [
    "graph_draw(network.graph, vertex_color=word(network.graph.vp['layer']))"
   ]
  },
  {
   "cell_type": "code",
   "execution_count": null,
   "metadata": {},
   "outputs": [],
   "source": []
  }
 ],
 "metadata": {
  "kernelspec": {
   "display_name": "graphtool",
   "language": "python",
   "name": "python3"
  },
  "language_info": {
   "codemirror_mode": {
    "name": "ipython",
    "version": 3
   },
   "file_extension": ".py",
   "mimetype": "text/x-python",
   "name": "python",
   "nbconvert_exporter": "python",
   "pygments_lexer": "ipython3",
   "version": "3.12.4"
  }
 },
 "nbformat": 4,
 "nbformat_minor": 2
}
